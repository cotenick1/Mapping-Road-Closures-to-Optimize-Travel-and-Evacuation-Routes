{
 "cells": [
  {
   "cell_type": "markdown",
   "metadata": {},
   "source": [
    "# 05. Location Extraction\n",
    "---"
   ]
  },
  {
   "cell_type": "markdown",
   "metadata": {},
   "source": [
    "<h1>Table of Contents<span class=\"tocSkip\"></span></h1>"
   ]
  },
  {
   "cell_type": "markdown",
   "metadata": {},
   "source": [
    "- [1. Import Packages](#1.-Import-Packages)\n",
    "- [2. Read in Tweets / Adjust Data Frame](#2.-Read-in-Tweets-/-Adjust-Data-Frame)\n",
    "- [3. Using spaCy to Extract Location Information](#3.-Using-spaCy-to-Extract-Location-Information)\n",
    " - [3A. Text Alterations](#3A.-Text-Alterations)\n",
    " - [3B. Creating a TXT File to Pass Into the Entity Labeler](#3B.-Creating-a-TXT-File-to-Pass-Into-the-Entity-Labeler)\n",
    " - [3C. Using the Annotator to Assign Training Entity Labels](#3C.-Using-the-Annotator-to-Assign-Training-Entity-Labels)\n",
    " - [3D. Creating a spaCy Library](#3D.-Creating-a-spaCy-Library)\n",
    " - [3E. Extracting Locations from spaCy Labels of Tweets](#3E.-Extracting-Locations-from-spaCy-Labels-of-Tweets)\n",
    " - [3F. Cleaning Location Data](#3F.-Cleaning-Location-Data)\n",
    "- [4. Final Interactive Table of Road Closures](#4.-Final-Interactive-Table-of-Road-Closures)\n",
    "- [5. Exporting Closures to CSV for Mapping](#5.-Exporting-Closures-to-CSV-for-Mapping)\n",
    "- [6. Exploratory Data Analysis / Visualizations](#6.-Exploratory-Data-Analysis-/-Visualizations)"
   ]
  },
  {
   "cell_type": "markdown",
   "metadata": {},
   "source": [
    "---\n",
    "# 1. Import Packages"
   ]
  },
  {
   "cell_type": "code",
   "execution_count": 1,
   "metadata": {},
   "outputs": [],
   "source": [
    "import pandas as pd\n",
    "import spacy\n",
    "import os\n",
    "import numpy as np\n",
    "import datetime\n",
    "import warnings\n",
    "warnings.filterwarnings('ignore')\n",
    "import matplotlib.pyplot as plt\n",
    "%matplotlib inline"
   ]
  },
  {
   "cell_type": "markdown",
   "metadata": {},
   "source": [
    "---\n",
    "# 2. Read in Tweets / Adjust Data Frame"
   ]
  },
  {
   "cell_type": "code",
   "execution_count": 2,
   "metadata": {},
   "outputs": [],
   "source": [
    "# read in the data frame of tweets\n",
    "tweets = pd.read_csv('../datasets/future_processing.csv')"
   ]
  },
  {
   "cell_type": "code",
   "execution_count": 3,
   "metadata": {},
   "outputs": [],
   "source": [
    "tweets.drop(columns = ['Unnamed: 0'], inplace = True)"
   ]
  },
  {
   "cell_type": "code",
   "execution_count": 4,
   "metadata": {},
   "outputs": [
    {
     "data": {
      "text/html": [
       "<div>\n",
       "<style scoped>\n",
       "    .dataframe tbody tr th:only-of-type {\n",
       "        vertical-align: middle;\n",
       "    }\n",
       "\n",
       "    .dataframe tbody tr th {\n",
       "        vertical-align: top;\n",
       "    }\n",
       "\n",
       "    .dataframe thead th {\n",
       "        text-align: right;\n",
       "    }\n",
       "</style>\n",
       "<table border=\"1\" class=\"dataframe\">\n",
       "  <thead>\n",
       "    <tr style=\"text-align: right;\">\n",
       "      <th></th>\n",
       "      <th>username</th>\n",
       "      <th>tweet</th>\n",
       "      <th>date_posted</th>\n",
       "      <th>mark</th>\n",
       "    </tr>\n",
       "  </thead>\n",
       "  <tbody>\n",
       "    <tr>\n",
       "      <td>0</td>\n",
       "      <td>511nji295</td>\n",
       "      <td>Crash on I-295 southbound South of Exit 29 - U...</td>\n",
       "      <td>2019-11-06 23:56:56+00:00</td>\n",
       "      <td>0</td>\n",
       "    </tr>\n",
       "    <tr>\n",
       "      <td>1</td>\n",
       "      <td>511njace</td>\n",
       "      <td>Construction, bridge painting on Atlantic City...</td>\n",
       "      <td>2019-11-06 23:52:57+00:00</td>\n",
       "      <td>0</td>\n",
       "    </tr>\n",
       "    <tr>\n",
       "      <td>2</td>\n",
       "      <td>511njtpk</td>\n",
       "      <td>Roadwork on New Jersey Turnpike inner roadway ...</td>\n",
       "      <td>2019-11-06 23:41:56+00:00</td>\n",
       "      <td>0</td>\n",
       "    </tr>\n",
       "    <tr>\n",
       "      <td>3</td>\n",
       "      <td>511nji76</td>\n",
       "      <td>Crash on I-76 eastbound at Exit 2 - I-676 (Cam...</td>\n",
       "      <td>2019-11-06 23:41:56+00:00</td>\n",
       "      <td>0</td>\n",
       "    </tr>\n",
       "    <tr>\n",
       "      <td>4</td>\n",
       "      <td>511njtpk</td>\n",
       "      <td>Roadwork on New Jersey Turnpike inner roadway ...</td>\n",
       "      <td>2019-11-06 23:27:56+00:00</td>\n",
       "      <td>0</td>\n",
       "    </tr>\n",
       "  </tbody>\n",
       "</table>\n",
       "</div>"
      ],
      "text/plain": [
       "    username                                              tweet  \\\n",
       "0  511nji295  Crash on I-295 southbound South of Exit 29 - U...   \n",
       "1   511njace  Construction, bridge painting on Atlantic City...   \n",
       "2   511njtpk  Roadwork on New Jersey Turnpike inner roadway ...   \n",
       "3   511nji76  Crash on I-76 eastbound at Exit 2 - I-676 (Cam...   \n",
       "4   511njtpk  Roadwork on New Jersey Turnpike inner roadway ...   \n",
       "\n",
       "                 date_posted  mark  \n",
       "0  2019-11-06 23:56:56+00:00     0  \n",
       "1  2019-11-06 23:52:57+00:00     0  \n",
       "2  2019-11-06 23:41:56+00:00     0  \n",
       "3  2019-11-06 23:41:56+00:00     0  \n",
       "4  2019-11-06 23:27:56+00:00     0  "
      ]
     },
     "execution_count": 4,
     "metadata": {},
     "output_type": "execute_result"
    }
   ],
   "source": [
    "tweets.head()"
   ]
  },
  {
   "cell_type": "code",
   "execution_count": 5,
   "metadata": {},
   "outputs": [],
   "source": [
    "# creates a data frame of tweets of just closures (0 because they were the minority clas)\n",
    "closures = tweets[tweets['mark'] == 0]"
   ]
  },
  {
   "cell_type": "code",
   "execution_count": 6,
   "metadata": {},
   "outputs": [
    {
     "data": {
      "text/html": [
       "<div>\n",
       "<style scoped>\n",
       "    .dataframe tbody tr th:only-of-type {\n",
       "        vertical-align: middle;\n",
       "    }\n",
       "\n",
       "    .dataframe tbody tr th {\n",
       "        vertical-align: top;\n",
       "    }\n",
       "\n",
       "    .dataframe thead th {\n",
       "        text-align: right;\n",
       "    }\n",
       "</style>\n",
       "<table border=\"1\" class=\"dataframe\">\n",
       "  <thead>\n",
       "    <tr style=\"text-align: right;\">\n",
       "      <th></th>\n",
       "      <th>index</th>\n",
       "      <th>username</th>\n",
       "      <th>tweet</th>\n",
       "      <th>date_posted</th>\n",
       "      <th>mark</th>\n",
       "    </tr>\n",
       "  </thead>\n",
       "  <tbody>\n",
       "    <tr>\n",
       "      <td>0</td>\n",
       "      <td>0</td>\n",
       "      <td>511nji295</td>\n",
       "      <td>Crash on I-295 southbound South of Exit 29 - U...</td>\n",
       "      <td>2019-11-06 23:56:56+00:00</td>\n",
       "      <td>0</td>\n",
       "    </tr>\n",
       "    <tr>\n",
       "      <td>1</td>\n",
       "      <td>1</td>\n",
       "      <td>511njace</td>\n",
       "      <td>Construction, bridge painting on Atlantic City...</td>\n",
       "      <td>2019-11-06 23:52:57+00:00</td>\n",
       "      <td>0</td>\n",
       "    </tr>\n",
       "    <tr>\n",
       "      <td>2</td>\n",
       "      <td>2</td>\n",
       "      <td>511njtpk</td>\n",
       "      <td>Roadwork on New Jersey Turnpike inner roadway ...</td>\n",
       "      <td>2019-11-06 23:41:56+00:00</td>\n",
       "      <td>0</td>\n",
       "    </tr>\n",
       "    <tr>\n",
       "      <td>3</td>\n",
       "      <td>3</td>\n",
       "      <td>511nji76</td>\n",
       "      <td>Crash on I-76 eastbound at Exit 2 - I-676 (Cam...</td>\n",
       "      <td>2019-11-06 23:41:56+00:00</td>\n",
       "      <td>0</td>\n",
       "    </tr>\n",
       "    <tr>\n",
       "      <td>4</td>\n",
       "      <td>4</td>\n",
       "      <td>511njtpk</td>\n",
       "      <td>Roadwork on New Jersey Turnpike inner roadway ...</td>\n",
       "      <td>2019-11-06 23:27:56+00:00</td>\n",
       "      <td>0</td>\n",
       "    </tr>\n",
       "  </tbody>\n",
       "</table>\n",
       "</div>"
      ],
      "text/plain": [
       "   index   username                                              tweet  \\\n",
       "0      0  511nji295  Crash on I-295 southbound South of Exit 29 - U...   \n",
       "1      1   511njace  Construction, bridge painting on Atlantic City...   \n",
       "2      2   511njtpk  Roadwork on New Jersey Turnpike inner roadway ...   \n",
       "3      3   511nji76  Crash on I-76 eastbound at Exit 2 - I-676 (Cam...   \n",
       "4      4   511njtpk  Roadwork on New Jersey Turnpike inner roadway ...   \n",
       "\n",
       "                 date_posted  mark  \n",
       "0  2019-11-06 23:56:56+00:00     0  \n",
       "1  2019-11-06 23:52:57+00:00     0  \n",
       "2  2019-11-06 23:41:56+00:00     0  \n",
       "3  2019-11-06 23:41:56+00:00     0  \n",
       "4  2019-11-06 23:27:56+00:00     0  "
      ]
     },
     "execution_count": 6,
     "metadata": {},
     "output_type": "execute_result"
    }
   ],
   "source": [
    "closures.reset_index(inplace = True)\n",
    "closures.head()"
   ]
  },
  {
   "cell_type": "code",
   "execution_count": 7,
   "metadata": {},
   "outputs": [],
   "source": [
    "closures.drop(columns = ['index', 'mark'], inplace = True)"
   ]
  },
  {
   "cell_type": "code",
   "execution_count": 8,
   "metadata": {},
   "outputs": [
    {
     "data": {
      "text/html": [
       "<div>\n",
       "<style scoped>\n",
       "    .dataframe tbody tr th:only-of-type {\n",
       "        vertical-align: middle;\n",
       "    }\n",
       "\n",
       "    .dataframe tbody tr th {\n",
       "        vertical-align: top;\n",
       "    }\n",
       "\n",
       "    .dataframe thead th {\n",
       "        text-align: right;\n",
       "    }\n",
       "</style>\n",
       "<table border=\"1\" class=\"dataframe\">\n",
       "  <thead>\n",
       "    <tr style=\"text-align: right;\">\n",
       "      <th></th>\n",
       "      <th>username</th>\n",
       "      <th>tweet</th>\n",
       "      <th>date_posted</th>\n",
       "    </tr>\n",
       "  </thead>\n",
       "  <tbody>\n",
       "    <tr>\n",
       "      <td>0</td>\n",
       "      <td>511nji295</td>\n",
       "      <td>Crash on I-295 southbound South of Exit 29 - U...</td>\n",
       "      <td>2019-11-06 23:56:56+00:00</td>\n",
       "    </tr>\n",
       "    <tr>\n",
       "      <td>1</td>\n",
       "      <td>511njace</td>\n",
       "      <td>Construction, bridge painting on Atlantic City...</td>\n",
       "      <td>2019-11-06 23:52:57+00:00</td>\n",
       "    </tr>\n",
       "    <tr>\n",
       "      <td>2</td>\n",
       "      <td>511njtpk</td>\n",
       "      <td>Roadwork on New Jersey Turnpike inner roadway ...</td>\n",
       "      <td>2019-11-06 23:41:56+00:00</td>\n",
       "    </tr>\n",
       "    <tr>\n",
       "      <td>3</td>\n",
       "      <td>511nji76</td>\n",
       "      <td>Crash on I-76 eastbound at Exit 2 - I-676 (Cam...</td>\n",
       "      <td>2019-11-06 23:41:56+00:00</td>\n",
       "    </tr>\n",
       "    <tr>\n",
       "      <td>4</td>\n",
       "      <td>511njtpk</td>\n",
       "      <td>Roadwork on New Jersey Turnpike inner roadway ...</td>\n",
       "      <td>2019-11-06 23:27:56+00:00</td>\n",
       "    </tr>\n",
       "  </tbody>\n",
       "</table>\n",
       "</div>"
      ],
      "text/plain": [
       "    username                                              tweet  \\\n",
       "0  511nji295  Crash on I-295 southbound South of Exit 29 - U...   \n",
       "1   511njace  Construction, bridge painting on Atlantic City...   \n",
       "2   511njtpk  Roadwork on New Jersey Turnpike inner roadway ...   \n",
       "3   511nji76  Crash on I-76 eastbound at Exit 2 - I-676 (Cam...   \n",
       "4   511njtpk  Roadwork on New Jersey Turnpike inner roadway ...   \n",
       "\n",
       "                 date_posted  \n",
       "0  2019-11-06 23:56:56+00:00  \n",
       "1  2019-11-06 23:52:57+00:00  \n",
       "2  2019-11-06 23:41:56+00:00  \n",
       "3  2019-11-06 23:41:56+00:00  \n",
       "4  2019-11-06 23:27:56+00:00  "
      ]
     },
     "execution_count": 8,
     "metadata": {},
     "output_type": "execute_result"
    }
   ],
   "source": [
    "closures.head()"
   ]
  },
  {
   "cell_type": "markdown",
   "metadata": {},
   "source": [
    "---\n",
    "# 3. Using spaCy to Extract Location Information"
   ]
  },
  {
   "cell_type": "markdown",
   "metadata": {},
   "source": [
    "SpaCy is a powerful Natural Language Processing tool.  SpaCy has a number of interesting applications but broadly speaking, the platform allows us to extract a broad array of information and meaning from individual words and strings.  In this case, we are most interested in its features of Named Entity Recognition (which, per the spaCy documentation, allows for identification of \"real-world\" items including locations) and Text Classification, which can assign labels to various pieces of text.  We can train the model based on snippets of text we provide.  Please see key features in the following link: https://spacy.io/usage/spacy-101"
   ]
  },
  {
   "cell_type": "markdown",
   "metadata": {},
   "source": [
    "We will be using tools provided by Manivannan Murugavel as detailed in his Medium post (https://medium.com/@manivannan_data/how-to-train-ner-with-custom-training-data-using-spacy-188e0e508c6).  The author built tools to efficiently assign label entities to our spaCy data and also to convert json files into a format that the spaCy learner can better understand."
   ]
  },
  {
   "cell_type": "markdown",
   "metadata": {},
   "source": [
    "## 3A. Text Alterations"
   ]
  },
  {
   "cell_type": "markdown",
   "metadata": {},
   "source": [
    "First, we want to standardize some versions of location/road data so that these words match across all tweets.  Our first step is creating a dictionary of the changes to be made and then creating a new column in our data frame that includes these \"expanded\" tweets."
   ]
  },
  {
   "cell_type": "code",
   "execution_count": 9,
   "metadata": {},
   "outputs": [],
   "source": [
    "# code for all changes to the text we want to make\n",
    "changes_dict = {'US ' : 'US-', \n",
    "                'I-' : 'Interstate ',  \n",
    "                'CR ' : 'Country Route ',\n",
    "                'Hwy ' : 'Highway ',\n",
    "                'St ' : 'Street ',\n",
    "                'St. ' : 'Street ',\n",
    "                'Rt ' : 'Route ',\n",
    "                'Rd ' : 'Road ',\n",
    "                'Twp' : 'Township ',\n",
    "                'Rd. ' : 'Road ',\n",
    "                'Rte ' : 'Route ',\n",
    "                'S/B' : 'southbound', \n",
    "                'N/B' : 'northbound'}"
   ]
  },
  {
   "cell_type": "code",
   "execution_count": 10,
   "metadata": {
    "code_folding": []
   },
   "outputs": [],
   "source": [
    "# code to make all changes we outline in the changes dictionary\n",
    "expanded_tweets = []\n",
    "for cleaned_tweet in closures['tweet']:\n",
    "    for key in changes_dict:\n",
    "        cleaned_tweet = cleaned_tweet.replace(key, changes_dict[key])\n",
    "    expanded_tweets.append(cleaned_tweet)\n",
    "closures['expanded_tweet'] = expanded_tweets"
   ]
  },
  {
   "cell_type": "code",
   "execution_count": 11,
   "metadata": {},
   "outputs": [
    {
     "data": {
      "text/html": [
       "<div>\n",
       "<style scoped>\n",
       "    .dataframe tbody tr th:only-of-type {\n",
       "        vertical-align: middle;\n",
       "    }\n",
       "\n",
       "    .dataframe tbody tr th {\n",
       "        vertical-align: top;\n",
       "    }\n",
       "\n",
       "    .dataframe thead th {\n",
       "        text-align: right;\n",
       "    }\n",
       "</style>\n",
       "<table border=\"1\" class=\"dataframe\">\n",
       "  <thead>\n",
       "    <tr style=\"text-align: right;\">\n",
       "      <th></th>\n",
       "      <th>username</th>\n",
       "      <th>tweet</th>\n",
       "      <th>date_posted</th>\n",
       "      <th>expanded_tweet</th>\n",
       "    </tr>\n",
       "  </thead>\n",
       "  <tbody>\n",
       "    <tr>\n",
       "      <td>0</td>\n",
       "      <td>511nji295</td>\n",
       "      <td>Crash on I-295 southbound South of Exit 29 - U...</td>\n",
       "      <td>2019-11-06 23:56:56+00:00</td>\n",
       "      <td>Crash on Interstate 295 southbound South of Ex...</td>\n",
       "    </tr>\n",
       "    <tr>\n",
       "      <td>1</td>\n",
       "      <td>511njace</td>\n",
       "      <td>Construction, bridge painting on Atlantic City...</td>\n",
       "      <td>2019-11-06 23:52:57+00:00</td>\n",
       "      <td>Construction, bridge painting on Atlantic City...</td>\n",
       "    </tr>\n",
       "    <tr>\n",
       "      <td>2</td>\n",
       "      <td>511njtpk</td>\n",
       "      <td>Roadwork on New Jersey Turnpike inner roadway ...</td>\n",
       "      <td>2019-11-06 23:41:56+00:00</td>\n",
       "      <td>Roadwork on New Jersey Turnpike inner roadway ...</td>\n",
       "    </tr>\n",
       "    <tr>\n",
       "      <td>3</td>\n",
       "      <td>511nji76</td>\n",
       "      <td>Crash on I-76 eastbound at Exit 2 - I-676 (Cam...</td>\n",
       "      <td>2019-11-06 23:41:56+00:00</td>\n",
       "      <td>Crash on Interstate 76 eastbound at Exit 2 - I...</td>\n",
       "    </tr>\n",
       "    <tr>\n",
       "      <td>4</td>\n",
       "      <td>511njtpk</td>\n",
       "      <td>Roadwork on New Jersey Turnpike inner roadway ...</td>\n",
       "      <td>2019-11-06 23:27:56+00:00</td>\n",
       "      <td>Roadwork on New Jersey Turnpike inner roadway ...</td>\n",
       "    </tr>\n",
       "  </tbody>\n",
       "</table>\n",
       "</div>"
      ],
      "text/plain": [
       "    username                                              tweet  \\\n",
       "0  511nji295  Crash on I-295 southbound South of Exit 29 - U...   \n",
       "1   511njace  Construction, bridge painting on Atlantic City...   \n",
       "2   511njtpk  Roadwork on New Jersey Turnpike inner roadway ...   \n",
       "3   511nji76  Crash on I-76 eastbound at Exit 2 - I-676 (Cam...   \n",
       "4   511njtpk  Roadwork on New Jersey Turnpike inner roadway ...   \n",
       "\n",
       "                 date_posted  \\\n",
       "0  2019-11-06 23:56:56+00:00   \n",
       "1  2019-11-06 23:52:57+00:00   \n",
       "2  2019-11-06 23:41:56+00:00   \n",
       "3  2019-11-06 23:41:56+00:00   \n",
       "4  2019-11-06 23:27:56+00:00   \n",
       "\n",
       "                                      expanded_tweet  \n",
       "0  Crash on Interstate 295 southbound South of Ex...  \n",
       "1  Construction, bridge painting on Atlantic City...  \n",
       "2  Roadwork on New Jersey Turnpike inner roadway ...  \n",
       "3  Crash on Interstate 76 eastbound at Exit 2 - I...  \n",
       "4  Roadwork on New Jersey Turnpike inner roadway ...  "
      ]
     },
     "execution_count": 11,
     "metadata": {},
     "output_type": "execute_result"
    }
   ],
   "source": [
    "closures.head()"
   ]
  },
  {
   "cell_type": "markdown",
   "metadata": {},
   "source": [
    "## 3B. Creating a TXT File to Pass Into the Entity Labeler"
   ]
  },
  {
   "cell_type": "markdown",
   "metadata": {},
   "source": [
    "With the tools we have at our disposal, we can assign \"entity labels\" to certain pieces of text and then train spaCy to recognize these pieces of text in future strings.  As a result, we can train our spaCy model to understand when it is seeing an Interstate Hwy, a Road, a City, etc.  This is how we will be able to extract locations from our closures data.\n",
    "\n",
    "Manivannan built a tool to ease the labeling process (https://manivannanmurugavel.github.io/annotating-tool/spacy-ner-annotator/).  We will convert 40 expanded tweets to pass into a txt file for the annotating tool."
   ]
  },
  {
   "cell_type": "code",
   "execution_count": 12,
   "metadata": {},
   "outputs": [],
   "source": [
    "# test_col = closures['expanded_tweet'].sample(n = 40, replace = False)"
   ]
  },
  {
   "cell_type": "code",
   "execution_count": 13,
   "metadata": {},
   "outputs": [],
   "source": [
    "# uncomment below for new training label set\n",
    "# np.savetxt(r'../datasets/spacy_annotator_test.txt', test_col, fmt='%s')"
   ]
  },
  {
   "cell_type": "markdown",
   "metadata": {},
   "source": [
    "## 3C. Using the Annotator to Assign Training Entity Labels"
   ]
  },
  {
   "cell_type": "markdown",
   "metadata": {},
   "source": [
    "We have now used the Annotator to assign labels for the following types of text in our tweets.  These are essentially the granular location details we want to capture within our tweets. Please note that this was done via the web and as such the exact process is not captured in this Notebook."
   ]
  },
  {
   "cell_type": "markdown",
   "metadata": {},
   "source": [
    "The labels we attempted to capture are:\n",
    "- TWN for towns/cities\n",
    "- LOC for places of interest\n",
    "- HWY for Highway in question\n",
    "- DIR for directions of highway/roads in question\n",
    "- LN to denote specific lane closures\n",
    "- ST for streets/roads\n",
    "- EXT for exits\n",
    "- RELOC for relative locations (e.g. closed BETWEEN X rd and Y rd)"
   ]
  },
  {
   "cell_type": "markdown",
   "metadata": {},
   "source": [
    "## 3D. Creating a spaCy Library"
   ]
  },
  {
   "cell_type": "markdown",
   "metadata": {},
   "source": [
    "We will now use our testing sentences to create a spaCy library via which we will label the remaining data that we did not train our entity labels on."
   ]
  },
  {
   "cell_type": "code",
   "execution_count": 14,
   "metadata": {},
   "outputs": [
    {
     "name": "stdout",
     "output_type": "stream",
     "text": [
      "../datasets/road_entity_labels.json../datasets/road_entity_labels.json\n",
      "../datasets/road_entity_labels.json\n"
     ]
    }
   ],
   "source": [
    "# the below code converts our labels from a JSON format to a spaCy editable format\n",
    "# code borrowed from Manivannan's posting\n",
    "import json\n",
    "\n",
    "filename = input(\"../datasets/road_entity_labels.json\")\n",
    "print(filename)\n",
    "\n",
    "\n",
    "with open(filename) as train_data:\n",
    "\ttrain = json.load(train_data)\n",
    "\n",
    "TRAIN_DATA = []\n",
    "for data in train:\n",
    "\tents = [tuple(entity) for entity in data['entities']]\n",
    "\tTRAIN_DATA.append((data['content'],{'entities':ents}))\n",
    "\n",
    "\n",
    "with open('{}'.format(filename.replace('json','txt')),'w') as write:\n",
    "\twrite.write(str(TRAIN_DATA))\n",
    "\n",
    "\n",
    "# note that after running this code, you have to reenter the file name in the box that appears below"
   ]
  },
  {
   "cell_type": "code",
   "execution_count": 15,
   "metadata": {},
   "outputs": [
    {
     "name": "stdout",
     "output_type": "stream",
     "text": [
      "closure_labelsclosure_labels\n"
     ]
    }
   ],
   "source": [
    "# now we train our spaCy model. \n",
    "# code comes from the spaCy documentation\n",
    "import spacy\n",
    "import random\n",
    "\n",
    "\n",
    "TRAIN_DATA = [('Construction, road maintenance operations on Interstate 287 northbound at Exit 35 - NJ 124 (Morristown) left lane closed until 2:00 P.M.   ', {'entities': [(45, 59, 'HWY'), (60, 70, 'DIR'), (74, 90, 'EXIT'), (92, 102, 'TWN'), (104, 113, 'LN')]}), ('Construction, roadwork on Interstate 195 both directions West of Exit 35 - NJ 34 (Wall Township ) to Exit 28 - US-9 (Howell Township ) 1 lane closed until 5:00 A.M.   ', {'entities': [(26, 40, 'HWY'), (41, 56, 'DIR'), (57, 64, 'RELOC'), (65, 80, 'EXIT'), (101, 116, 'EXIT'), (117, 132, 'TWN'), (135, 141, 'LN')]}), ('Interstate 78 westbound left lane closed west of Exit 40 - Country Road 531 in Warren Township . because of an overturned vehicle. Use caution, slow down and expect delays', {'entities': [(0, 13, 'HWY'), (14, 23, 'DIR'), (24, 33, 'LN'), (41, 48, 'RELOC'), (49, 75, 'EXIT'), (79, 94, 'TWN')]}), ('Crash on Interstate 80 eastbound West of Exit 37 - Country Road 513/Hibernia Ave (Rockaway Township ) 1 lane closed 5-10 minute delay   ', {'entities': [(9, 22, 'HWY'), (23, 32, 'DIR'), (33, 40, 'RELOC'), (41, 80, 'EXIT'), (82, 99, 'TWN'), (102, 108, 'LN')]}), ('Roadwork on New Jersey Turnpike inner roadway Northbound near South of Interchange 9 - NJ 18 (East Brunswick Township ) 1 right lane closed until 4:00 P.M.   ', {'entities': [(12, 31, 'HWY'), (46, 56, 'DIR'), (62, 70, 'RELOC'), (71, 92, 'HWY'), (94, 117, 'TWN'), (120, 132, 'LN')]}), ('Construction, construction on NJ 29 both directions from West Upper Ferry Road (Ewing Township ) to NJ 175/Scenic Dr (Ewing Township ) 1 lane closed until 11:59 P.M. on October 31, 2019   ', {'entities': [(30, 35, 'HWY'), (36, 51, 'DIR'), (52, 56, 'RELOC'), (57, 78, 'ST'), (80, 94, 'TWN'), (100, 116, 'HWY'), (135, 141, 'LN')]}), ('Roadwork, roadwork on New Jersey Turnpike - Western Spur southbound between South of Northern Mixing Bowl (Ridgefield) and Interchange 15W - Interstate 280 (Kearny) all lanes closed to traffic until 6:00 A.M.   ', {'entities': [(22, 56, 'HWY'), (57, 67, 'DIR'), (68, 75, 'RELOC'), (76, 84, 'RELOC'), (85, 105, 'ST'), (107, 117, 'TWN'), (123, 155, 'HWY'), (157, 163, 'TWN'), (165, 174, 'LN')]}), ('Crash on Interstate 295 northbound North of Exit 47 - Country Road 541/Burlington-Mount Holly Road (Burlington Township ) left shoulder closed 15-20 minute delay use caution   ', {'entities': [(9, 23, 'HWY'), (24, 34, 'DIR'), (35, 43, 'RELOC'), (44, 98, 'EXIT'), (100, 119, 'TWN'), (122, 135, 'LN')]}), ('Construction, paving operations on NJ 24 both directions Interstate 287 (Hanover Township ) to Interstate 78 (Springfield Township ) right lane closed for repairs until 6:00 A.M. ,UTFC   ', {'entities': [(35, 40, 'HWY'), (41, 56, 'DIR'), (57, 71, 'HWY'), (95, 108, 'HWY'), (92, 94, 'RELOC'), (133, 143, 'LN'), (73, 89, 'TWN'), (110, 130, 'TWN')]}), ('Construction, construction on Interstate 295 northbound from Exit 73 - Scotch Road (Hopewell Township ) to Delaware River/Scudder Falls Bridge (Ewing Township ) 1 lane closed until 4:00 P.M. use caution   ', {'entities': [(30, 44, 'HWY'), (45, 55, 'DIR'), (56, 60, 'RELOC'), (61, 82, 'EXIT'), (84, 101, 'TWN'), (107, 142, 'ST'), (104, 106, 'RELOC'), (144, 158, 'TWN'), (161, 167, 'LN')]}), ('Vehicle fire on Interstate 280 eastbound West of Exit 9 - Pleasant Avenue/Country Road 660 (West Orange Township ) right lane closed 10-15 minute delay   ', {'entities': [(16, 30, 'HWY'), (31, 40, 'DIR'), (41, 48, 'RELOC'), (49, 90, 'EXIT'), (92, 112, 'TWN'), (115, 125, 'LN')]}), ('Roadwork on New Jersey Turnpike outer roadway Northbound between South of Interchange 14 - Interstate 78/US-1&9 (Newark) and North of Southern Mixing Bowl (Newark) 1 right lane closed until 6:00 A.M.   ', {'entities': [(12, 31, 'HWY'), (46, 56, 'DIR'), (57, 73, 'RELOC'), (74, 111, 'HWY'), (113, 119, 'TWN'), (121, 133, 'RELOC'), (134, 154, 'ST'), (164, 176, 'LN')]}), ('Construction, sign work on Interstate 80 both directions between Exit 42 - US-202/Littleton Road (Parsippany-Troy Hills Township ) and Exit 68 - New Jersey Turnpike/Interstate 95 (Teaneck Township ) right shoulder closed for repairs until 3:00 P.M.   ', {'entities': [(27, 40, 'HWY'), (41, 56, 'DIR'), (57, 64, 'RELOC'), (65, 96, 'EXIT'), (99, 128, 'TWN'), (135, 178, 'EXIT'), (180, 196, 'TWN'), (199, 213, 'LN')]}), ('Operational Activity on NJ 55 both directions ramps from Exit 53 - Woodbury Glassboro Road (Mantua Township ) ramp closed 5-10 minute delay use caution   ', {'entities': [(24, 29, 'HWY'), (30, 45, 'DIR'), (46, 50, 'LN'), (57, 90, 'EXIT')]}), ('Construction, moving operation on Interstate 78 eastbound between Exit 26 - Country Road 665/Rattlesnake Bridge Road (Bedminster Township ) and Exit 41 - Dale Road to Plainfield Ave (Watchung) right shoulder closed until 3:30 P.M. ,Guiderail Inspection   ', {'entities': [(34, 47, 'HWY'), (48, 57, 'DIR'), (58, 65, 'RELOC'), (66, 116, 'EXIT'), (118, 137, 'TWN'), (144, 181, 'HWY'), (193, 207, 'LN'), (183, 191, 'TWN')]}), ('Disabled vehicle on Interstate 295 northbound at Exit 75 - Country Road 579/Bear Tavern Road (Ewing Township ) right lane closed 5-10 minute delay use caution   ', {'entities': [(20, 34, 'HWY'), (35, 45, 'DIR'), (49, 92, 'EXIT'), (94, 108, 'TWN'), (111, 121, 'LN')]}), ('Construction, construction on Interstate 295 both directions between North of Exit 40 - NJ 38 (Mount Laurel Township ) and South of Exit 47 - Country Road 541/Burlington-Mount Holly Road (Burlington Township ) 1 to 2 lanes closed until 5:00 A.M. use caution   ', {'entities': [(30, 44, 'HWY'), (45, 60, 'DIR'), (61, 77, 'RELOC'), (78, 93, 'EXIT'), (95, 116, 'TWN'), (119, 131, 'RELOC'), (132, 186, 'EXIT'), (188, 207, 'TWN'), (210, 222, 'LN')]}), ('Roadwork on Garden State Parkway inner roadway Northbound between South of Exit 116 - PNC Arts Center (Holmdel Township ) and North of Exit 116 - PNC Arts Center (Holmdel Township ) 1 right lane closed until 5:00 A.M.   ', {'entities': [(12, 32, 'HWY'), (47, 57, 'DIR'), (58, 74, 'RELOC'), (75, 101, 'EXIT'), (126, 134, 'RELOC'), (103, 119, 'TWN'), (182, 194, 'LN')]}), ('Crash on Interstate 76 westbound West of Exit 1B - Interstate 295 (Gloucester City) right shoulder closed 5-10 minute delay use caution   ', {'entities': [(9, 22, 'HWY'), (23, 32, 'DIR'), (33, 40, 'RELOC'), (41, 65, 'EXIT'), (67, 82, 'TWN'), (84, 98, 'LN')]}), ('Roadwork on Garden State Parkway outer roadway Southbound at South of Exit 116 - PNC Arts Center (Holmdel Township ) ramp closed until 6:00 A.M.   ', {'entities': [(12, 32, 'HWY'), (47, 57, 'DIR'), (61, 69, 'RELOC'), (70, 96, 'EXIT'), (98, 114, 'TWN'), (117, 121, 'LN')]}), ('Route 78 local lanes eastbound, west of Exit 58/Route 1&9/E. Port St, Newark, right lane closed due to crash. Slow down and use caution.', {'entities': [(0, 8, 'HWY'), (21, 30, 'DIR'), (32, 39, 'RELOC'), (40, 76, 'EXIT'), (78, 88, 'LN')]}), ('Bus service traveling to/from Philadelphia is subject to delays due to construction/lane closure on Arch Street in Philadelphia until 5:00pm.', {'entities': [(84, 88, 'LN'), (100, 111, 'ST'), (30, 42, 'TWN')]}), ('Construction, guard rail repairs on Interstate 80 both directions between Exit 34 - NJ 15 (Wharton) and Exit 30 - Howard Blvd (Mount Arlington) left lane closed for repairs until 6:00 A.M.   ', {'entities': [(36, 49, 'HWY'), (50, 65, 'DIR'), (66, 73, 'RELOC'), (74, 89, 'EXIT'), (91, 98, 'TWN'), (104, 125, 'EXIT'), (127, 142, 'TWN'), (144, 153, 'LN')]}), ('Route 206 northbound all lanes closed South of Country Road 560/Dingmans Road in Sandyston because of an overturned vehicle. Follow detour or plan alternate route', {'entities': [(0, 9, 'HWY'), (10, 20, 'DIR'), (21, 30, 'LN'), (38, 46, 'RELOC'), (47, 77, 'ST'), (81, 90, 'TWN')]}), ('Construction, construction on Interstate 295 southbound ramp to Exit 25 - NJ 47/Delsea Dr (Westville) ramp closed until 6:00 A.M. on October 18, 2019 use caution   ', {'entities': [(30, 44, 'HWY'), (45, 55, 'DIR'), (64, 89, 'EXIT'), (91, 100, 'TWN'), (56, 60, 'LN')]}), ('Truck fire on Interstate 76 westbound at West of Exit 1B - Interstate 295 (Gloucester City) right shoulder closed 10-15 minute delay use caution   ', {'entities': [(14, 27, 'HWY'), (28, 37, 'DIR'), (41, 48, 'RELOC'), (49, 73, 'EXIT'), (75, 90, 'TWN'), (92, 106, 'LN')]}), ('Crash on Interstate 295 northbound North of Exit 26S - NJ 42/Interstate 76/Interstate 676 (Bellmawr) right shoulder closed use caution   ', {'entities': [(9, 23, 'HWY'), (24, 34, 'DIR'), (35, 43, 'RELOC'), (44, 89, 'EXIT'), (91, 99, 'TWN'), (101, 115, 'LN')]}), ('Rail service in and out of Penn Station New York is operating on or close to schedule with residual delays following earlier police activity at Newark Penn Station.', {'entities': [(40, 48, 'TWN'), (144, 150, 'TWN')]}), ('Disabled truck on US-1 southbound at Washington Road (West Windsor Township ) right lane closed 5-10 minute delay use caution   ', {'entities': [(18, 22, 'HWY'), (23, 33, 'DIR'), (37, 52, 'ST'), (34, 36, 'RELOC'), (54, 75, 'TWN'), (78, 88, 'LN')]}), ('Construction, construction on Interstate 80 both directions between East of Exit 34 - NJ 15 (Rockaway Township ) and Exit 43 - Interstate 287 (Parsippany-Troy Hills Township ) left lane closed until 2:30 P.M. 5-10 minute delay   ', {'entities': [(30, 43, 'HWY'), (44, 59, 'DIR'), (60, 75, 'RELOC'), (76, 91, 'EXIT'), (93, 110, 'TWN'), (117, 141, 'EXIT'), (143, 173, 'TWN'), (176, 185, 'LN')]}), ('Construction, drainage improvements on US-130 northbound at Hankins Road (Robbinsville) 1 lane closed until 6:00 A.M.   ', {'entities': [(39, 45, 'HWY'), (46, 56, 'DIR'), (60, 72, 'ST'), (57, 59, 'RELOC'), (74, 86, 'TWN'), (88, 94, 'LN')]}), ('Roadwork on New Jersey Turnpike inner roadway northbound North of Interchange 11 - Garden State Parkway (Woodbridge Township ) to South of Interchange 12 - Carteret-Rahway (Woodbridge Township ) right lane closed to traffic   ', {'entities': [(12, 31, 'HWY'), (46, 56, 'DIR'), (57, 65, 'RELOC'), (66, 103, 'HWY'), (105, 124, 'TWN'), (130, 138, 'RELOC'), (139, 171, 'ST'), (195, 205, 'LN')]}), ('Construction, roadwork on NJ 42 northbound South of Exit 14 - Country Road 753/Creek Road (Runnemede) to South of Interstate 295 (Bellmawr) 1 to 2 lanes closed until 5:00 A.M.   ', {'entities': [(26, 31, 'HWY'), (32, 42, 'DIR'), (52, 89, 'EXIT'), (91, 100, 'TWN'), (43, 51, 'RELOC'), (114, 128, 'HWY'), (130, 138, 'TWN'), (140, 152, 'LN')]}), ('Roadwork on Garden State Parkway Southbound between South of Exit 163 - NJ 17 (Paramus) and North of Bergen Toll Plaza (Saddle Brook Township ) 1 right lane closed until 5:00 A.M.   ', {'entities': [(12, 32, 'HWY'), (33, 43, 'DIR'), (44, 60, 'RELOC'), (61, 77, 'EXIT'), (79, 86, 'TWN'), (92, 100, 'RELOC'), (101, 118, 'ST'), (120, 141, 'TWN'), (144, 156, 'LN')]}), ('Earlier Incident and Emergency construction on NJ 42 southbound South of Exit 12 - NJ 41 (Deptford Township ) left lane closed use caution   ', {'entities': [(47, 52, 'HWY'), (53, 63, 'DIR'), (64, 72, 'RELOC'), (73, 88, 'EXIT'), (90, 107, 'TWN'), (110, 119, 'LN')]}), ('Crash investigation on Interstate 78 westbound ramp from Exit 52 - Garden State Parkway (Union Township ) ramp closed and detoured and right lane closed in local 5-10 minute delay   ', {'entities': [(23, 36, 'HWY'), (37, 46, 'DIR'), (57, 87, 'EXIT'), (89, 103, 'TWN'), (47, 51, 'LN'), (135, 145, 'LN')]}), ('Construction, construction on Interstate 295 northbound from Exit 73 - Scotch Road (Hopewell Township ) to Delaware River/Scudder Falls Bridge (Ewing Township ) 1 lane closed until 4:00 P.M. use caution   ', {'entities': [(30, 44, 'HWY'), (45, 55, 'DIR'), (56, 60, 'RELOC'), (61, 82, 'EXIT'), (84, 101, 'TWN'), (107, 142, 'ST'), (144, 158, 'TWN'), (161, 167, 'LN')]}), ('Route 9W Southbound all lanes are closed approaching the Palisades Interstate Parkway in Alpine, Bergen County due to an overturned tractor trailer and fuel spill. Traffic is using the left-turn lane to access the Palisades Interstate Parkway', {'entities': [(0, 8, 'HWY'), (9, 19, 'DIR'), (20, 29, 'LN'), (89, 95, 'TWN'), (57, 85, 'HWY')]}), ('Construction, bridge maintenance operations on Interstate 78 westbound area of Exit 15 - NJ 173 East (Franklin Township ) 1 to 2 lanes closed for repairs until 4:30 P.M.   ', {'entities': [(47, 60, 'HWY'), (61, 70, 'DIR'), (71, 78, 'RELOC'), (79, 100, 'EXIT'), (102, 119, 'TWN'), (122, 134, 'LN')]}), ('Route 9 northbound left lane remains closed at Country Road 604/Green Street in Woodbridge due to emergency construction. Use caution, slow down and expect delays through the evening commute', {'entities': [(0, 7, 'HWY'), (8, 18, 'DIR'), (19, 28, 'LN'), (47, 76, 'ST'), (80, 90, 'TWN')]})]\n",
    "\n",
    "\n",
    "def train_spacy(data,iterations):\n",
    "    TRAIN_DATA = data\n",
    "    nlp = spacy.blank('en')  # create blank Language class\n",
    "    # create the built-in pipeline components and add them to the pipeline\n",
    "    # nlp.create_pipe works for built-ins that are registered with spaCy\n",
    "    if 'ner' not in nlp.pipe_names:\n",
    "        ner = nlp.create_pipe('ner')\n",
    "        nlp.add_pipe(ner, last=True)\n",
    "       \n",
    "\n",
    "    # add labels\n",
    "    for _, annotations in TRAIN_DATA:\n",
    "         for ent in annotations.get('entities'):\n",
    "            ner.add_label(ent[2])\n",
    "\n",
    "    # get names of other pipes to disable them during training\n",
    "    other_pipes = [pipe for pipe in nlp.pipe_names if pipe != 'ner']\n",
    "    with nlp.disable_pipes(*other_pipes):  # only train NER\n",
    "        optimizer = nlp.begin_training()\n",
    "        for itn in range(iterations):\n",
    "            random.shuffle(TRAIN_DATA)\n",
    "            losses = {}\n",
    "            for text, annotations in TRAIN_DATA:\n",
    "                nlp.update(\n",
    "                    [text],  # batch of texts\n",
    "                    [annotations],  # batch of annotations\n",
    "                    drop=0.2,  # dropout - make it harder to memorise data\n",
    "                    sgd=optimizer,  # callable to update weights\n",
    "                    losses=losses)\n",
    "    return nlp\n",
    "\n",
    "\n",
    "prdnlp = train_spacy(TRAIN_DATA, 20)\n",
    "\n",
    "# Save our trained Model\n",
    "modelfile = input(\"closure_labels\")\n",
    "prdnlp.to_disk(modelfile)\n",
    "# note that after running this code, you have to reenter the model file name (closure_labels)"
   ]
  },
  {
   "cell_type": "markdown",
   "metadata": {},
   "source": [
    "## 3E. Extracting Locations from spaCy Labels of Tweets"
   ]
  },
  {
   "cell_type": "markdown",
   "metadata": {},
   "source": [
    "Now that we have trained our spaCy library, we can iterate through all of our expanded tweets and extract our Highway, Street, Exit, Directional, Location/POI, Lane, Relative Location, and Town information from each tweet."
   ]
  },
  {
   "cell_type": "code",
   "execution_count": 16,
   "metadata": {
    "scrolled": true
   },
   "outputs": [],
   "source": [
    "# instantiating the spaCy English model\n",
    "nlp = spacy.load('closure_labels')\n",
    "\n",
    "# instantiating the columns in our data frame for different types of location data\n",
    "closures['highway'] = ''\n",
    "closures['streets'] = ''\n",
    "closures['exits'] = ''\n",
    "closures['directions'] = ''\n",
    "closures['locs'] = ''\n",
    "closures['lanes'] = ''\n",
    "closures['relocs'] = ''\n",
    "closures['town'] = ''\n",
    "\n",
    "# looping through tweets to extract location\n",
    "for i in range(closures.shape[0]):\n",
    "    doc = nlp(closures['expanded_tweet'].iloc[i])\n",
    "    # instantiating lists for each location type\n",
    "    highways = []\n",
    "    streets = []\n",
    "    exits = []\n",
    "    directions = []\n",
    "    locs = []\n",
    "    lanes = []\n",
    "    relocs = []\n",
    "    towns = []\n",
    "    for char in doc.ents:\n",
    "        if (char.label_ == 'ST'):\n",
    "            streets.append(char)\n",
    "            closures['streets'].iloc[i] = streets\n",
    "        if (char.label_ == 'HWY'):\n",
    "            highways.append(char)\n",
    "            closures['highway'].iloc[i] = highways\n",
    "        if (char.label_ == 'EXIT'):\n",
    "            exits.append(char)\n",
    "            closures['exits'].iloc[i] = exits\n",
    "        if (char.label_ == 'DIR'):\n",
    "            directions.append(char)\n",
    "            closures['directions'].iloc[i] = directions\n",
    "        if (char.label_ == 'LOC'):\n",
    "            locs.append(char)\n",
    "            closures['locs'].iloc[i] = locs\n",
    "        if (char.label_ == 'LN'):\n",
    "            lanes.append(char)\n",
    "            closures['lanes'].iloc[i] = lanes\n",
    "        if (char.label_ == 'RELOC'):\n",
    "            relocs.append(char)\n",
    "            closures['relocs'].iloc[i] = relocs\n",
    "        if (char.label_ == 'TWN'):\n",
    "            towns.append(char)\n",
    "            closures['town'].iloc[i] = towns\n",
    "        \n",
    "            "
   ]
  },
  {
   "cell_type": "markdown",
   "metadata": {},
   "source": [
    "## 3F. Cleaning Location Data"
   ]
  },
  {
   "cell_type": "markdown",
   "metadata": {},
   "source": [
    "Next, we will convert all our token columns from spaCy token objects to strings and replace the brackets."
   ]
  },
  {
   "cell_type": "code",
   "execution_count": 17,
   "metadata": {},
   "outputs": [],
   "source": [
    "tok_cols = ['highway', 'streets', 'exits', 'directions', 'locs', 'lanes', 'relocs', 'town']\n",
    "for col in tok_cols:\n",
    "    clean_list = []\n",
    "    for token in closures[col]:\n",
    "        clean_list.append(str(token).replace('[', '').replace(']', ''))\n",
    "    closures[col] = clean_list\n"
   ]
  },
  {
   "cell_type": "code",
   "execution_count": 18,
   "metadata": {
    "scrolled": true
   },
   "outputs": [
    {
     "data": {
      "text/html": [
       "<div>\n",
       "<style scoped>\n",
       "    .dataframe tbody tr th:only-of-type {\n",
       "        vertical-align: middle;\n",
       "    }\n",
       "\n",
       "    .dataframe tbody tr th {\n",
       "        vertical-align: top;\n",
       "    }\n",
       "\n",
       "    .dataframe thead th {\n",
       "        text-align: right;\n",
       "    }\n",
       "</style>\n",
       "<table border=\"1\" class=\"dataframe\">\n",
       "  <thead>\n",
       "    <tr style=\"text-align: right;\">\n",
       "      <th></th>\n",
       "      <th>username</th>\n",
       "      <th>tweet</th>\n",
       "      <th>date_posted</th>\n",
       "      <th>expanded_tweet</th>\n",
       "      <th>highway</th>\n",
       "      <th>streets</th>\n",
       "      <th>exits</th>\n",
       "      <th>directions</th>\n",
       "      <th>locs</th>\n",
       "      <th>lanes</th>\n",
       "      <th>relocs</th>\n",
       "      <th>town</th>\n",
       "    </tr>\n",
       "  </thead>\n",
       "  <tbody>\n",
       "    <tr>\n",
       "      <td>0</td>\n",
       "      <td>511nji295</td>\n",
       "      <td>Crash on I-295 southbound South of Exit 29 - U...</td>\n",
       "      <td>2019-11-06 23:56:56+00:00</td>\n",
       "      <td>Crash on Interstate 295 southbound South of Ex...</td>\n",
       "      <td>Interstate 295</td>\n",
       "      <td></td>\n",
       "      <td>Exit 29 - US-30</td>\n",
       "      <td>southbound</td>\n",
       "      <td></td>\n",
       "      <td>right lane</td>\n",
       "      <td>South of</td>\n",
       "      <td>Haddon Heights</td>\n",
       "    </tr>\n",
       "    <tr>\n",
       "      <td>1</td>\n",
       "      <td>511njace</td>\n",
       "      <td>Construction, bridge painting on Atlantic City...</td>\n",
       "      <td>2019-11-06 23:52:57+00:00</td>\n",
       "      <td>Construction, bridge painting on Atlantic City...</td>\n",
       "      <td>Atlantic City</td>\n",
       "      <td></td>\n",
       "      <td>Exit 12 - US-40 - Wrangleboro Road, Exit 12 - ...</td>\n",
       "      <td>westbound</td>\n",
       "      <td></td>\n",
       "      <td>right lane</td>\n",
       "      <td>between East of, and West of</td>\n",
       "      <td>Hamilton Township, Hamilton Township</td>\n",
       "    </tr>\n",
       "    <tr>\n",
       "      <td>2</td>\n",
       "      <td>511njtpk</td>\n",
       "      <td>Roadwork on New Jersey Turnpike inner roadway ...</td>\n",
       "      <td>2019-11-06 23:41:56+00:00</td>\n",
       "      <td>Roadwork on New Jersey Turnpike inner roadway ...</td>\n",
       "      <td>New Jersey Turnpike, Interchange 6 - Pennsylva...</td>\n",
       "      <td></td>\n",
       "      <td></td>\n",
       "      <td>northbound</td>\n",
       "      <td></td>\n",
       "      <td>ramp</td>\n",
       "      <td>from</td>\n",
       "      <td>Mansfield Township</td>\n",
       "    </tr>\n",
       "    <tr>\n",
       "      <td>3</td>\n",
       "      <td>511nji76</td>\n",
       "      <td>Crash on I-76 eastbound at Exit 2 - I-676 (Cam...</td>\n",
       "      <td>2019-11-06 23:41:56+00:00</td>\n",
       "      <td>Crash on Interstate 76 eastbound at Exit 2 - I...</td>\n",
       "      <td>Interstate 76</td>\n",
       "      <td></td>\n",
       "      <td>Exit 2 - Interstate 676</td>\n",
       "      <td>eastbound</td>\n",
       "      <td></td>\n",
       "      <td>right shoulder</td>\n",
       "      <td></td>\n",
       "      <td>Camden</td>\n",
       "    </tr>\n",
       "    <tr>\n",
       "      <td>4</td>\n",
       "      <td>511njtpk</td>\n",
       "      <td>Roadwork on New Jersey Turnpike inner roadway ...</td>\n",
       "      <td>2019-11-06 23:27:56+00:00</td>\n",
       "      <td>Roadwork on New Jersey Turnpike inner roadway ...</td>\n",
       "      <td>New Jersey Turnpike, Interchange 14 - Intersta...</td>\n",
       "      <td></td>\n",
       "      <td></td>\n",
       "      <td>Southbound</td>\n",
       "      <td></td>\n",
       "      <td>all lanes</td>\n",
       "      <td>between North of, and South of</td>\n",
       "      <td>Newark, Mansfield Township</td>\n",
       "    </tr>\n",
       "  </tbody>\n",
       "</table>\n",
       "</div>"
      ],
      "text/plain": [
       "    username                                              tweet  \\\n",
       "0  511nji295  Crash on I-295 southbound South of Exit 29 - U...   \n",
       "1   511njace  Construction, bridge painting on Atlantic City...   \n",
       "2   511njtpk  Roadwork on New Jersey Turnpike inner roadway ...   \n",
       "3   511nji76  Crash on I-76 eastbound at Exit 2 - I-676 (Cam...   \n",
       "4   511njtpk  Roadwork on New Jersey Turnpike inner roadway ...   \n",
       "\n",
       "                 date_posted  \\\n",
       "0  2019-11-06 23:56:56+00:00   \n",
       "1  2019-11-06 23:52:57+00:00   \n",
       "2  2019-11-06 23:41:56+00:00   \n",
       "3  2019-11-06 23:41:56+00:00   \n",
       "4  2019-11-06 23:27:56+00:00   \n",
       "\n",
       "                                      expanded_tweet  \\\n",
       "0  Crash on Interstate 295 southbound South of Ex...   \n",
       "1  Construction, bridge painting on Atlantic City...   \n",
       "2  Roadwork on New Jersey Turnpike inner roadway ...   \n",
       "3  Crash on Interstate 76 eastbound at Exit 2 - I...   \n",
       "4  Roadwork on New Jersey Turnpike inner roadway ...   \n",
       "\n",
       "                                             highway streets  \\\n",
       "0                                     Interstate 295           \n",
       "1                                      Atlantic City           \n",
       "2  New Jersey Turnpike, Interchange 6 - Pennsylva...           \n",
       "3                                      Interstate 76           \n",
       "4  New Jersey Turnpike, Interchange 14 - Intersta...           \n",
       "\n",
       "                                               exits  directions locs  \\\n",
       "0                                    Exit 29 - US-30  southbound        \n",
       "1  Exit 12 - US-40 - Wrangleboro Road, Exit 12 - ...   westbound        \n",
       "2                                                     northbound        \n",
       "3                            Exit 2 - Interstate 676   eastbound        \n",
       "4                                                     Southbound        \n",
       "\n",
       "            lanes                          relocs  \\\n",
       "0      right lane                        South of   \n",
       "1      right lane    between East of, and West of   \n",
       "2            ramp                            from   \n",
       "3  right shoulder                                   \n",
       "4       all lanes  between North of, and South of   \n",
       "\n",
       "                                   town  \n",
       "0                        Haddon Heights  \n",
       "1  Hamilton Township, Hamilton Township  \n",
       "2                    Mansfield Township  \n",
       "3                                Camden  \n",
       "4            Newark, Mansfield Township  "
      ]
     },
     "execution_count": 18,
     "metadata": {},
     "output_type": "execute_result"
    }
   ],
   "source": [
    "closures.head()"
   ]
  },
  {
   "cell_type": "markdown",
   "metadata": {},
   "source": [
    "Next we want to convert the date to a datetime object so that we can sort tweets properly by date."
   ]
  },
  {
   "cell_type": "code",
   "execution_count": 19,
   "metadata": {
    "scrolled": true
   },
   "outputs": [],
   "source": [
    "closures['date_posted'] = pd.to_datetime(closures['date_posted'])"
   ]
  },
  {
   "cell_type": "markdown",
   "metadata": {},
   "source": [
    "We also want to drop duplicate rows."
   ]
  },
  {
   "cell_type": "code",
   "execution_count": 20,
   "metadata": {},
   "outputs": [],
   "source": [
    "closures = closures.drop_duplicates()"
   ]
  },
  {
   "cell_type": "markdown",
   "metadata": {},
   "source": [
    "Additionally, we want to confirm that our tweets are sorted by date (descending) and then reset the index."
   ]
  },
  {
   "cell_type": "code",
   "execution_count": 21,
   "metadata": {
    "scrolled": true
   },
   "outputs": [],
   "source": [
    "closures = closures.sort_values('date_posted', ascending = False)"
   ]
  },
  {
   "cell_type": "code",
   "execution_count": 22,
   "metadata": {},
   "outputs": [],
   "source": [
    "closures.reset_index(drop = True, inplace = True)"
   ]
  },
  {
   "cell_type": "markdown",
   "metadata": {},
   "source": [
    "---\n",
    "# 4. Final Interactive Table of Road Closures"
   ]
  },
  {
   "cell_type": "markdown",
   "metadata": {},
   "source": [
    "Finally, we are ready to display a final table of the road closures on a given day to be used for planning evacuations and optimizing routes.  This is one of our deliverables along with our mapping.\n",
    "\n",
    "We found an interesting Jupyter Notebook extension called qgrid that allows for us to create interactive tables from pandas data frames.  The table is sortable and will allow people to filter by any information they want such as date, road, exit, type of closure, etc.  This tool can be used in real time or to study past closures."
   ]
  },
  {
   "cell_type": "code",
   "execution_count": null,
   "metadata": {},
   "outputs": [],
   "source": [
    "# pip install qgrid\n",
    "# jupyter nbextension enable --py --sys-prefix qgrid\n",
    "\n",
    "# # only required if you have not enabled the ipywidgets nbextension yet\n",
    "# jupyter nbextension enable --py --sys-prefix widgetsnbextension"
   ]
  },
  {
   "cell_type": "code",
   "execution_count": 23,
   "metadata": {
    "scrolled": true
   },
   "outputs": [
    {
     "data": {
      "application/vnd.jupyter.widget-view+json": {
       "model_id": "1033d1ca05e44b619735272987fb81c2",
       "version_major": 2,
       "version_minor": 0
      },
      "text/plain": [
       "QgridWidget(grid_options={'fullWidthRows': True, 'syncColumnCellResize': True, 'forceFitColumns': True, 'defau…"
      ]
     },
     "metadata": {},
     "output_type": "display_data"
    }
   ],
   "source": [
    "import qgrid\n",
    "qgrid.show_grid(closures)"
   ]
  },
  {
   "cell_type": "markdown",
   "metadata": {},
   "source": [
    "---\n",
    "# 5. Exporting Closures to CSV for Mapping"
   ]
  },
  {
   "cell_type": "markdown",
   "metadata": {},
   "source": [
    "Finally, we want to export our full, detailed closures table to be used in the mapping tool."
   ]
  },
  {
   "cell_type": "code",
   "execution_count": 25,
   "metadata": {},
   "outputs": [],
   "source": [
    "closures.to_csv('../datasets/closure_locations.csv')"
   ]
  },
  {
   "cell_type": "markdown",
   "metadata": {},
   "source": [
    "---\n",
    "# 6. Exploratory Data Analysis / Visualizations"
   ]
  },
  {
   "cell_type": "markdown",
   "metadata": {},
   "source": [
    "To give an idea of what areas see the highest number of closures, we can to perform some beginning EDA on our data.  This type of analysis can be done on any number of types of closures.  For this test case, we are looking at most common Highway Exit closures over the past two weeks."
   ]
  },
  {
   "cell_type": "code",
   "execution_count": 26,
   "metadata": {},
   "outputs": [],
   "source": [
    "# create a column combining Highway/Exit\n",
    "closures['HWY + Exit'] = ''\n",
    "for i in range(closures.shape[0]):\n",
    "    closures.loc[i, 'HWY + Exit'] = closures.loc[i, 'highway'] + ' ' + closures.loc[i, 'exits']"
   ]
  },
  {
   "cell_type": "code",
   "execution_count": 27,
   "metadata": {},
   "outputs": [],
   "source": [
    "# the below code gives us all instances of Highway + Exit columns with more than 15 appearances in closure tweets\n",
    "high_closures = closures[closures['HWY + Exit'] != ' ']['HWY + Exit'].value_counts()[closures[closures['HWY + Exit'] != ' ']['HWY + Exit'].value_counts() >= 15].sort_values(ascending = True)"
   ]
  },
  {
   "cell_type": "code",
   "execution_count": 28,
   "metadata": {},
   "outputs": [
    {
     "data": {
      "image/png": "[encoded data removed]",
      "text/plain": [
       "<Figure size 864x720 with 1 Axes>"
      ]
     },
     "metadata": {
      "needs_background": "light"
     },
     "output_type": "display_data"
    }
   ],
   "source": [
    "plt.figure(figsize = (12, 10));\n",
    "plt.barh(high_closures.index, high_closures.values);\n",
    "plt.title('Highway/Exit Closures Last Two Weeks', size = 20);\n",
    "plt.xlabel('Count', size = 16);\n",
    "plt.ylabel('Highway/Exit', size = 16);\n",
    "plt.xlim([0, 40]);"
   ]
  },
  {
   "cell_type": "markdown",
   "metadata": {},
   "source": [
    "---"
   ]
  }
 ],
 "metadata": {
  "kernelspec": {
   "display_name": "Python 3",
   "language": "python",
   "name": "python3"
  },
  "language_info": {
   "codemirror_mode": {
    "name": "ipython",
    "version": 3
   },
   "file_extension": ".py",
   "mimetype": "text/x-python",
   "name": "python",
   "nbconvert_exporter": "python",
   "pygments_lexer": "ipython3",
   "version": "3.7.3"
  },
  "toc": {
   "base_numbering": 1,
   "nav_menu": {},
   "number_sections": false,
   "sideBar": true,
   "skip_h1_title": false,
   "title_cell": "Table of Contents",
   "title_sidebar": "Contents",
   "toc_cell": false,
   "toc_position": {},
   "toc_section_display": true,
   "toc_window_display": true
  }
 },
 "nbformat": 4,
 "nbformat_minor": 4
}
