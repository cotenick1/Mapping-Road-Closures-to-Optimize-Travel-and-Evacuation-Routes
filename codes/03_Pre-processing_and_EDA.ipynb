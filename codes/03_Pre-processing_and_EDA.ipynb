{
 "cells": [
  {
   "cell_type": "markdown",
   "metadata": {},
   "source": [
    "# 03. Pre-processing and EDA\n",
    "---"
   ]
  },
  {
   "cell_type": "markdown",
   "metadata": {},
   "source": [
    "The prurpose of this notebook is to prepare our web-scrapped data from the file [scraped_tweets.csv](#http://localhost:8888/edit/PROJECTS/project_5/project_5/datasets/scraped_tweets.csv) for future modeling."
   ]
  },
  {
   "cell_type": "markdown",
   "metadata": {},
   "source": [
    "---\n",
    "# Table of Content #"
   ]
  },
  {
   "cell_type": "markdown",
   "metadata": {},
   "source": [
    "- [1. Importing Libraries and Data](#1.-Importing-Libraries-and-Data)\n",
    "- [2. Pre-processing](#2.-Pre-processing)\n",
    "- [3. EDA](#3.-EDA)"
   ]
  },
  {
   "cell_type": "markdown",
   "metadata": {},
   "source": [
    "---\n",
    "## 1. Importing Libraries and Data ##"
   ]
  },
  {
   "cell_type": "code",
   "execution_count": 2,
   "metadata": {},
   "outputs": [],
   "source": [
    "#Importing Libraries\n",
    "import pandas as pd\n",
    "import numpy as np"
   ]
  },
  {
   "cell_type": "code",
   "execution_count": 3,
   "metadata": {},
   "outputs": [],
   "source": [
    "#Importing our data to a DataFrame\n",
    "df = pd.read_csv('../datasets/clean_twitter.csv')"
   ]
  },
  {
   "cell_type": "markdown",
   "metadata": {},
   "source": [
    "---\n",
    "## 2. Pre-processing ##"
   ]
  },
  {
   "cell_type": "code",
   "execution_count": 4,
   "metadata": {},
   "outputs": [
    {
     "data": {
      "text/plain": [
       "(8015, 4)"
      ]
     },
     "execution_count": 4,
     "metadata": {},
     "output_type": "execute_result"
    }
   ],
   "source": [
    "#Getting data dimesions\n",
    "df.shape"
   ]
  },
  {
   "cell_type": "code",
   "execution_count": 5,
   "metadata": {},
   "outputs": [
    {
     "data": {
      "text/html": [
       "<div>\n",
       "<style scoped>\n",
       "    .dataframe tbody tr th:only-of-type {\n",
       "        vertical-align: middle;\n",
       "    }\n",
       "\n",
       "    .dataframe tbody tr th {\n",
       "        vertical-align: top;\n",
       "    }\n",
       "\n",
       "    .dataframe thead th {\n",
       "        text-align: right;\n",
       "    }\n",
       "</style>\n",
       "<table border=\"1\" class=\"dataframe\">\n",
       "  <thead>\n",
       "    <tr style=\"text-align: right;\">\n",
       "      <th></th>\n",
       "      <th>Unnamed: 0</th>\n",
       "      <th>username</th>\n",
       "      <th>tweet</th>\n",
       "      <th>date_posted</th>\n",
       "    </tr>\n",
       "  </thead>\n",
       "  <tbody>\n",
       "    <tr>\n",
       "      <td>0</td>\n",
       "      <td>0</td>\n",
       "      <td>511njbt</td>\n",
       "      <td>Delays on George Washington Bridge westbound f...</td>\n",
       "      <td>2019-11-06 23:59:56+00:00</td>\n",
       "    </tr>\n",
       "    <tr>\n",
       "      <td>1</td>\n",
       "      <td>1</td>\n",
       "      <td>511njbt</td>\n",
       "      <td>Delays on George Washington Bridge westbound f...</td>\n",
       "      <td>2019-11-06 23:58:57+00:00</td>\n",
       "    </tr>\n",
       "    <tr>\n",
       "      <td>2</td>\n",
       "      <td>2</td>\n",
       "      <td>511njtpk</td>\n",
       "      <td>Crash on New Jersey Turnpike - Eastern Spur so...</td>\n",
       "      <td>2019-11-06 23:58:56+00:00</td>\n",
       "    </tr>\n",
       "    <tr>\n",
       "      <td>3</td>\n",
       "      <td>3</td>\n",
       "      <td>511nji295</td>\n",
       "      <td>Crash on I-295 southbound South of Exit 29 - U...</td>\n",
       "      <td>2019-11-06 23:56:56+00:00</td>\n",
       "    </tr>\n",
       "    <tr>\n",
       "      <td>4</td>\n",
       "      <td>4</td>\n",
       "      <td>511njace</td>\n",
       "      <td>Construction, bridge painting on Atlantic City...</td>\n",
       "      <td>2019-11-06 23:52:57+00:00</td>\n",
       "    </tr>\n",
       "  </tbody>\n",
       "</table>\n",
       "</div>"
      ],
      "text/plain": [
       "   Unnamed: 0   username                                              tweet  \\\n",
       "0           0    511njbt  Delays on George Washington Bridge westbound f...   \n",
       "1           1    511njbt  Delays on George Washington Bridge westbound f...   \n",
       "2           2   511njtpk  Crash on New Jersey Turnpike - Eastern Spur so...   \n",
       "3           3  511nji295  Crash on I-295 southbound South of Exit 29 - U...   \n",
       "4           4   511njace  Construction, bridge painting on Atlantic City...   \n",
       "\n",
       "                 date_posted  \n",
       "0  2019-11-06 23:59:56+00:00  \n",
       "1  2019-11-06 23:58:57+00:00  \n",
       "2  2019-11-06 23:58:56+00:00  \n",
       "3  2019-11-06 23:56:56+00:00  \n",
       "4  2019-11-06 23:52:57+00:00  "
      ]
     },
     "execution_count": 5,
     "metadata": {},
     "output_type": "execute_result"
    }
   ],
   "source": [
    "#Initial data check\n",
    "df.head()"
   ]
  },
  {
   "cell_type": "markdown",
   "metadata": {},
   "source": [
    "In order to determine what tweets are relevant to our analysis, we have conducted some code words filtering - see the details below."
   ]
  },
  {
   "cell_type": "code",
   "execution_count": 6,
   "metadata": {},
   "outputs": [],
   "source": [
    "#Creating individual masks to filter our DataFrame\n",
    "\n",
    "mask_road = df['tweet'].str.contains('road', regex=False, case=False)\n",
    "mask_exit = df['tweet'].str.contains('exit', regex=False, case=False)\n",
    "mask_street = df['tweet'].str.contains('street', regex=False, case=False)\n",
    "mask_highway = df['tweet'].str.contains('highway', regex=False, case=False)\n",
    "mask_hwy = df['tweet'].str.contains('hwy', regex=False, case=False)\n",
    "mask_ramp = df['tweet'].str.contains('ramp', regex=False, case=False)\n",
    "mask_st = df['tweet'].str.contains('st', regex=False, case=False)\n",
    "mask_ave = df['tweet'].str.contains('ave', regex=False, case=False)\n",
    "mask_lane = df['tweet'].str.contains('lane', regex=False, case=False)\n",
    "mask_ln = df['tweet'].str.contains('ln', regex=False, case=False)\n",
    "mask_drive = df['tweet'].str.contains('drive', regex=False, case=False)\n",
    "mask_clos = df['tweet'].str.contains('clos', regex=False, case=False)\n",
    "\n",
    "#Creating a unified mask\n",
    "mask = (mask_road |\n",
    "                  mask_exit | \n",
    "                  mask_street | \n",
    "                  mask_highway | \n",
    "                  mask_hwy | \n",
    "                  mask_ramp | \n",
    "                  mask_st | \n",
    "                  mask_lane)& mask_clos"
   ]
  },
  {
   "cell_type": "code",
   "execution_count": 7,
   "metadata": {},
   "outputs": [],
   "source": [
    "#Separating tweets dealing with actual road closures into a separate DataFrame\n",
    "df_closures = df[mask]"
   ]
  },
  {
   "cell_type": "code",
   "execution_count": 8,
   "metadata": {},
   "outputs": [],
   "source": [
    "#Separating tweets NOT dealing with actual road closures into a separate DataFrame\n",
    "df_spam = df[~mask]"
   ]
  },
  {
   "cell_type": "markdown",
   "metadata": {},
   "source": [
    "---\n",
    "## 3. EDA ##"
   ]
  },
  {
   "cell_type": "code",
   "execution_count": 9,
   "metadata": {},
   "outputs": [
    {
     "data": {
      "text/plain": [
       "(1622, 4)"
      ]
     },
     "execution_count": 9,
     "metadata": {},
     "output_type": "execute_result"
    }
   ],
   "source": [
    "#Getting data dimensions for the closures DataFrame\n",
    "df_closures.shape"
   ]
  },
  {
   "cell_type": "code",
   "execution_count": 10,
   "metadata": {},
   "outputs": [
    {
     "data": {
      "text/plain": [
       "0"
      ]
     },
     "execution_count": 10,
     "metadata": {},
     "output_type": "execute_result"
    }
   ],
   "source": [
    "#Checking for empty tweets\n",
    "df_closures['tweet'].isna().sum()"
   ]
  },
  {
   "cell_type": "code",
   "execution_count": 11,
   "metadata": {},
   "outputs": [
    {
     "data": {
      "text/plain": [
       "(6393, 4)"
      ]
     },
     "execution_count": 11,
     "metadata": {},
     "output_type": "execute_result"
    }
   ],
   "source": [
    "#Getting data dimensions for the spam DataFrame\n",
    "df_spam.shape"
   ]
  },
  {
   "cell_type": "code",
   "execution_count": 12,
   "metadata": {},
   "outputs": [
    {
     "data": {
      "text/plain": [
       "0"
      ]
     },
     "execution_count": 12,
     "metadata": {},
     "output_type": "execute_result"
    }
   ],
   "source": [
    "#Checking for empty tweets\n",
    "df_spam['tweet'].isna().sum()"
   ]
  },
  {
   "cell_type": "code",
   "execution_count": 13,
   "metadata": {},
   "outputs": [
    {
     "name": "stderr",
     "output_type": "stream",
     "text": [
      "C:\\Users\\Fausto\\Anaconda3\\lib\\site-packages\\ipykernel_launcher.py:2: SettingWithCopyWarning: \n",
      "A value is trying to be set on a copy of a slice from a DataFrame.\n",
      "Try using .loc[row_indexer,col_indexer] = value instead\n",
      "\n",
      "See the caveats in the documentation: http://pandas.pydata.org/pandas-docs/stable/user_guide/indexing.html#returning-a-view-versus-a-copy\n",
      "  \n"
     ]
    }
   ],
   "source": [
    "#Introducing a label for our future positive class\n",
    "df_closures['mark'] = 0"
   ]
  },
  {
   "cell_type": "code",
   "execution_count": 14,
   "metadata": {},
   "outputs": [
    {
     "name": "stderr",
     "output_type": "stream",
     "text": [
      "C:\\Users\\Fausto\\Anaconda3\\lib\\site-packages\\ipykernel_launcher.py:2: SettingWithCopyWarning: \n",
      "A value is trying to be set on a copy of a slice from a DataFrame.\n",
      "Try using .loc[row_indexer,col_indexer] = value instead\n",
      "\n",
      "See the caveats in the documentation: http://pandas.pydata.org/pandas-docs/stable/user_guide/indexing.html#returning-a-view-versus-a-copy\n",
      "  \n"
     ]
    }
   ],
   "source": [
    "#Introducing a label for our future negative class\n",
    "df_spam['mark'] = 1"
   ]
  },
  {
   "cell_type": "code",
   "execution_count": 15,
   "metadata": {},
   "outputs": [
    {
     "data": {
      "text/html": [
       "<div>\n",
       "<style scoped>\n",
       "    .dataframe tbody tr th:only-of-type {\n",
       "        vertical-align: middle;\n",
       "    }\n",
       "\n",
       "    .dataframe tbody tr th {\n",
       "        vertical-align: top;\n",
       "    }\n",
       "\n",
       "    .dataframe thead th {\n",
       "        text-align: right;\n",
       "    }\n",
       "</style>\n",
       "<table border=\"1\" class=\"dataframe\">\n",
       "  <thead>\n",
       "    <tr style=\"text-align: right;\">\n",
       "      <th></th>\n",
       "      <th>Unnamed: 0</th>\n",
       "      <th>username</th>\n",
       "      <th>tweet</th>\n",
       "      <th>date_posted</th>\n",
       "      <th>mark</th>\n",
       "    </tr>\n",
       "  </thead>\n",
       "  <tbody>\n",
       "    <tr>\n",
       "      <td>0</td>\n",
       "      <td>0</td>\n",
       "      <td>511njbt</td>\n",
       "      <td>Delays on George Washington Bridge westbound f...</td>\n",
       "      <td>2019-11-06 23:59:56+00:00</td>\n",
       "      <td>1</td>\n",
       "    </tr>\n",
       "    <tr>\n",
       "      <td>1</td>\n",
       "      <td>1</td>\n",
       "      <td>511njbt</td>\n",
       "      <td>Delays on George Washington Bridge westbound f...</td>\n",
       "      <td>2019-11-06 23:58:57+00:00</td>\n",
       "      <td>1</td>\n",
       "    </tr>\n",
       "    <tr>\n",
       "      <td>2</td>\n",
       "      <td>2</td>\n",
       "      <td>511njtpk</td>\n",
       "      <td>Crash on New Jersey Turnpike - Eastern Spur so...</td>\n",
       "      <td>2019-11-06 23:58:56+00:00</td>\n",
       "      <td>1</td>\n",
       "    </tr>\n",
       "    <tr>\n",
       "      <td>5</td>\n",
       "      <td>5</td>\n",
       "      <td>511nji287</td>\n",
       "      <td>Delays on I-287 southbound between Exit 6 - CR...</td>\n",
       "      <td>2019-11-06 23:52:56+00:00</td>\n",
       "      <td>1</td>\n",
       "    </tr>\n",
       "    <tr>\n",
       "      <td>6</td>\n",
       "      <td>6</td>\n",
       "      <td>511nji287</td>\n",
       "      <td>Delays on I-287 northbound between Exit 37 - N...</td>\n",
       "      <td>2019-11-06 23:51:56+00:00</td>\n",
       "      <td>1</td>\n",
       "    </tr>\n",
       "    <tr>\n",
       "      <td>...</td>\n",
       "      <td>...</td>\n",
       "      <td>...</td>\n",
       "      <td>...</td>\n",
       "      <td>...</td>\n",
       "      <td>...</td>\n",
       "    </tr>\n",
       "    <tr>\n",
       "      <td>8008</td>\n",
       "      <td>8008</td>\n",
       "      <td>NJTRANSIT_SBUS</td>\n",
       "      <td>Bus Route No. 402, the 10:29 pm arrival into B...</td>\n",
       "      <td>2019-10-24 01:05:33+00:00</td>\n",
       "      <td>1</td>\n",
       "    </tr>\n",
       "    <tr>\n",
       "      <td>8009</td>\n",
       "      <td>8009</td>\n",
       "      <td>NJTRANSIT</td>\n",
       "      <td>Good evening, the 167t to Harrington Park will...</td>\n",
       "      <td>2019-10-24 01:02:41+00:00</td>\n",
       "      <td>1</td>\n",
       "    </tr>\n",
       "    <tr>\n",
       "      <td>8010</td>\n",
       "      <td>8010</td>\n",
       "      <td>NJTRANSIT</td>\n",
       "      <td>Hi Rachel, thank you for alerting us. I have f...</td>\n",
       "      <td>2019-10-24 00:57:28+00:00</td>\n",
       "      <td>1</td>\n",
       "    </tr>\n",
       "    <tr>\n",
       "      <td>8012</td>\n",
       "      <td>8012</td>\n",
       "      <td>NJTRANSIT_NBUS</td>\n",
       "      <td>Bus Route No. 70, the 9:30 pm arrival into NPS...</td>\n",
       "      <td>2019-10-24 00:29:57+00:00</td>\n",
       "      <td>1</td>\n",
       "    </tr>\n",
       "    <tr>\n",
       "      <td>8014</td>\n",
       "      <td>8014</td>\n",
       "      <td>NJTRANSIT</td>\n",
       "      <td>Good evening, bus route 119 is a private carri...</td>\n",
       "      <td>2019-10-24 00:05:10+00:00</td>\n",
       "      <td>1</td>\n",
       "    </tr>\n",
       "  </tbody>\n",
       "</table>\n",
       "<p>6393 rows × 5 columns</p>\n",
       "</div>"
      ],
      "text/plain": [
       "      Unnamed: 0        username  \\\n",
       "0              0         511njbt   \n",
       "1              1         511njbt   \n",
       "2              2        511njtpk   \n",
       "5              5       511nji287   \n",
       "6              6       511nji287   \n",
       "...          ...             ...   \n",
       "8008        8008  NJTRANSIT_SBUS   \n",
       "8009        8009       NJTRANSIT   \n",
       "8010        8010       NJTRANSIT   \n",
       "8012        8012  NJTRANSIT_NBUS   \n",
       "8014        8014       NJTRANSIT   \n",
       "\n",
       "                                                  tweet  \\\n",
       "0     Delays on George Washington Bridge westbound f...   \n",
       "1     Delays on George Washington Bridge westbound f...   \n",
       "2     Crash on New Jersey Turnpike - Eastern Spur so...   \n",
       "5     Delays on I-287 southbound between Exit 6 - CR...   \n",
       "6     Delays on I-287 northbound between Exit 37 - N...   \n",
       "...                                                 ...   \n",
       "8008  Bus Route No. 402, the 10:29 pm arrival into B...   \n",
       "8009  Good evening, the 167t to Harrington Park will...   \n",
       "8010  Hi Rachel, thank you for alerting us. I have f...   \n",
       "8012  Bus Route No. 70, the 9:30 pm arrival into NPS...   \n",
       "8014  Good evening, bus route 119 is a private carri...   \n",
       "\n",
       "                    date_posted  mark  \n",
       "0     2019-11-06 23:59:56+00:00     1  \n",
       "1     2019-11-06 23:58:57+00:00     1  \n",
       "2     2019-11-06 23:58:56+00:00     1  \n",
       "5     2019-11-06 23:52:56+00:00     1  \n",
       "6     2019-11-06 23:51:56+00:00     1  \n",
       "...                         ...   ...  \n",
       "8008  2019-10-24 01:05:33+00:00     1  \n",
       "8009  2019-10-24 01:02:41+00:00     1  \n",
       "8010  2019-10-24 00:57:28+00:00     1  \n",
       "8012  2019-10-24 00:29:57+00:00     1  \n",
       "8014  2019-10-24 00:05:10+00:00     1  \n",
       "\n",
       "[6393 rows x 5 columns]"
      ]
     },
     "execution_count": 15,
     "metadata": {},
     "output_type": "execute_result"
    }
   ],
   "source": [
    "#Having a look at our spam DataFrame\n",
    "df_spam"
   ]
  },
  {
   "cell_type": "code",
   "execution_count": 16,
   "metadata": {},
   "outputs": [
    {
     "data": {
      "text/html": [
       "<div>\n",
       "<style scoped>\n",
       "    .dataframe tbody tr th:only-of-type {\n",
       "        vertical-align: middle;\n",
       "    }\n",
       "\n",
       "    .dataframe tbody tr th {\n",
       "        vertical-align: top;\n",
       "    }\n",
       "\n",
       "    .dataframe thead th {\n",
       "        text-align: right;\n",
       "    }\n",
       "</style>\n",
       "<table border=\"1\" class=\"dataframe\">\n",
       "  <thead>\n",
       "    <tr style=\"text-align: right;\">\n",
       "      <th></th>\n",
       "      <th>Unnamed: 0</th>\n",
       "      <th>username</th>\n",
       "      <th>tweet</th>\n",
       "      <th>date_posted</th>\n",
       "      <th>mark</th>\n",
       "    </tr>\n",
       "  </thead>\n",
       "  <tbody>\n",
       "    <tr>\n",
       "      <td>3</td>\n",
       "      <td>3</td>\n",
       "      <td>511nji295</td>\n",
       "      <td>Crash on I-295 southbound South of Exit 29 - U...</td>\n",
       "      <td>2019-11-06 23:56:56+00:00</td>\n",
       "      <td>0</td>\n",
       "    </tr>\n",
       "    <tr>\n",
       "      <td>4</td>\n",
       "      <td>4</td>\n",
       "      <td>511njace</td>\n",
       "      <td>Construction, bridge painting on Atlantic City...</td>\n",
       "      <td>2019-11-06 23:52:57+00:00</td>\n",
       "      <td>0</td>\n",
       "    </tr>\n",
       "    <tr>\n",
       "      <td>8</td>\n",
       "      <td>8</td>\n",
       "      <td>511njtpk</td>\n",
       "      <td>Roadwork on New Jersey Turnpike inner roadway ...</td>\n",
       "      <td>2019-11-06 23:41:56+00:00</td>\n",
       "      <td>0</td>\n",
       "    </tr>\n",
       "    <tr>\n",
       "      <td>9</td>\n",
       "      <td>9</td>\n",
       "      <td>511nji76</td>\n",
       "      <td>Crash on I-76 eastbound at Exit 2 - I-676 (Cam...</td>\n",
       "      <td>2019-11-06 23:41:56+00:00</td>\n",
       "      <td>0</td>\n",
       "    </tr>\n",
       "    <tr>\n",
       "      <td>19</td>\n",
       "      <td>19</td>\n",
       "      <td>511njtpk</td>\n",
       "      <td>Roadwork on New Jersey Turnpike inner roadway ...</td>\n",
       "      <td>2019-11-06 23:27:56+00:00</td>\n",
       "      <td>0</td>\n",
       "    </tr>\n",
       "  </tbody>\n",
       "</table>\n",
       "</div>"
      ],
      "text/plain": [
       "    Unnamed: 0   username                                              tweet  \\\n",
       "3            3  511nji295  Crash on I-295 southbound South of Exit 29 - U...   \n",
       "4            4   511njace  Construction, bridge painting on Atlantic City...   \n",
       "8            8   511njtpk  Roadwork on New Jersey Turnpike inner roadway ...   \n",
       "9            9   511nji76  Crash on I-76 eastbound at Exit 2 - I-676 (Cam...   \n",
       "19          19   511njtpk  Roadwork on New Jersey Turnpike inner roadway ...   \n",
       "\n",
       "                  date_posted  mark  \n",
       "3   2019-11-06 23:56:56+00:00     0  \n",
       "4   2019-11-06 23:52:57+00:00     0  \n",
       "8   2019-11-06 23:41:56+00:00     0  \n",
       "9   2019-11-06 23:41:56+00:00     0  \n",
       "19  2019-11-06 23:27:56+00:00     0  "
      ]
     },
     "execution_count": 16,
     "metadata": {},
     "output_type": "execute_result"
    }
   ],
   "source": [
    "#Having a look at our road closures tweets DataFrame\n",
    "df_closures.head()"
   ]
  },
  {
   "cell_type": "code",
   "execution_count": 17,
   "metadata": {},
   "outputs": [],
   "source": [
    "#Dropping unnecessary and ininformative columns\n",
    "df_closures = df_closures[['tweet','mark']]\n",
    "df_spam = df_spam[['tweet','mark']]\n",
    "\n",
    "#Resetting indices\n",
    "df_closures.reset_index(inplace=True)\n",
    "df_spam.reset_index(inplace=True)"
   ]
  },
  {
   "cell_type": "code",
   "execution_count": 18,
   "metadata": {},
   "outputs": [
    {
     "data": {
      "text/plain": [
       "'Delays on I-295 southbound from Exit 29 - US 30 (Barrington) to Exit 26S - NJ 42/I-76/I-676 (Bellmawr) delays due to volume   '"
      ]
     },
     "execution_count": 18,
     "metadata": {},
     "output_type": "execute_result"
    }
   ],
   "source": [
    "#Getting an impression of a spam tweet\n",
    "df_spam['tweet'][5]"
   ]
  },
  {
   "cell_type": "code",
   "execution_count": 19,
   "metadata": {},
   "outputs": [
    {
     "data": {
      "text/plain": [
       "'Roadwork on New Jersey Turnpike inner roadway Northbound between Inner and Outer Roadway Merge (Mansfield Twp) and North of Interchange 14 - I-78/US 1&9 (Newark) all lanes closed until 5:00 A.M.   '"
      ]
     },
     "execution_count": 19,
     "metadata": {},
     "output_type": "execute_result"
    }
   ],
   "source": [
    "#Getting an impression of a closures tweet\n",
    "df_closures['tweet'][5]"
   ]
  },
  {
   "cell_type": "markdown",
   "metadata": {},
   "source": [
    "In order to avoid inbalanced clasees with our future classification model we need to address this problem by constructing our modeling dataset in a way our positive class (field 'mark' = 0, tweets dealing with closed road parts) is not dissoluted in our negative class (field 'mark' = 1, tweets dealing with no road closures/partical closures - the idea is that for emergency planning it's important if a first-responce vehicle can use at least a part of the road). Hence, we will randomly pull tweets out of our negative 'spam' DataFrame - and a number of these tweets will be equal to the number of tweets in our positive DataFrame. "
   ]
  },
  {
   "cell_type": "code",
   "execution_count": 20,
   "metadata": {},
   "outputs": [
    {
     "data": {
      "text/plain": [
       "(3244, 3)"
      ]
     },
     "execution_count": 20,
     "metadata": {},
     "output_type": "execute_result"
    }
   ],
   "source": [
    "#Randomly sampling our negative tweets into a new 'Negative' DataFrame\n",
    "df_neg = df_spam.sample(df_closures.shape[0])\n",
    "\n",
    "#Concatenating our positive and negative dataframes into the final one\n",
    "df_final = pd.concat([df_closures, df_neg])\n",
    "\n",
    "#Checking the final DataFrame dimensions\n",
    "df_final.shape"
   ]
  },
  {
   "cell_type": "code",
   "execution_count": 21,
   "metadata": {},
   "outputs": [],
   "source": [
    "#Saving our final DataFrame into a csv file for future modeling\n",
    "df_final.to_csv('../datasets/modeling_df.csv')"
   ]
  },
  {
   "cell_type": "markdown",
   "metadata": {},
   "source": [
    "---"
   ]
  }
 ],
 "metadata": {
  "kernelspec": {
   "display_name": "Python 3",
   "language": "python",
   "name": "python3"
  },
  "language_info": {
   "codemirror_mode": {
    "name": "ipython",
    "version": 3
   },
   "file_extension": ".py",
   "mimetype": "text/x-python",
   "name": "python",
   "nbconvert_exporter": "python",
   "pygments_lexer": "ipython3",
   "version": "3.7.3"
  }
 },
 "nbformat": 4,
 "nbformat_minor": 4
}
