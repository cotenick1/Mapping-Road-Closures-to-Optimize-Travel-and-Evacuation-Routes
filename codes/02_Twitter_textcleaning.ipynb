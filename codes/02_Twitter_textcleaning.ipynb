{
 "cells": [
  {
   "cell_type": "markdown",
   "metadata": {},
   "source": [
    "# 02. Twitter Text Cleaning\n",
    "\n",
    "---"
   ]
  },
  {
   "cell_type": "markdown",
   "metadata": {},
   "source": [
    "<h1>Table of Contents<span class=\"tocSkip\"></span></h1>"
   ]
  },
  {
   "cell_type": "markdown",
   "metadata": {},
   "source": [
    "- [1. Import Packages](#1.-Import-Packages)\n",
    "- [2. Read in Twitter Data](#2.-Read-in-Twitter-Data)\n",
    "- [3. Frame Cleaning](#3.-Frame-Cleaning)\n",
    "- [4. Text Cleaning](#3.-Text-Cleaning)\n",
    " - [4A. Initial HTML Cleaning](#4A.-Initial-HTML-Cleaning)\n",
    " - [4B. Links Cleaning](#4B.-Links-Cleaning)\n",
    " - [4C. Additional HTML and Other Text Cleaning](#4C.-Additional-HTML-and-Other-Text-Cleaning)\n",
    "- [5. Read to CSV](#5.-Read-to-CSV)\n",
    "\n",
    "---"
   ]
  },
  {
   "cell_type": "markdown",
   "metadata": {},
   "source": [
    "# 1.  Import Packages"
   ]
  },
  {
   "cell_type": "code",
   "execution_count": 1,
   "metadata": {},
   "outputs": [
    {
     "name": "stderr",
     "output_type": "stream",
     "text": [
      "[nltk_data] Downloading package wordnet to\n",
      "[nltk_data]     C:\\Users\\Fausto\\AppData\\Roaming\\nltk_data...\n",
      "[nltk_data]   Package wordnet is already up-to-date!\n",
      "[nltk_data] Downloading package stopwords to\n",
      "[nltk_data]     C:\\Users\\Fausto\\AppData\\Roaming\\nltk_data...\n",
      "[nltk_data]   Package stopwords is already up-to-date!\n"
     ]
    }
   ],
   "source": [
    "import pandas as pd\n",
    "import numpy as np\n",
    "import requests\n",
    "from nltk.stem import WordNetLemmatizer\n",
    "import nltk\n",
    "nltk.download('wordnet')\n",
    "nltk.download('stopwords')\n",
    "from nltk.tokenize import RegexpTokenizer\n",
    "import regex as re\n",
    "from nltk.stem.porter import PorterStemmer\n",
    "from bs4 import BeautifulSoup  \n",
    "from sklearn.feature_extraction import stop_words\n",
    "import matplotlib.pyplot as plt\n",
    "from nltk.corpus import stopwords\n",
    "import warnings\n",
    "warnings.filterwarnings('ignore')\n",
    "%matplotlib inline"
   ]
  },
  {
   "cell_type": "markdown",
   "metadata": {},
   "source": [
    "---"
   ]
  },
  {
   "cell_type": "markdown",
   "metadata": {},
   "source": [
    "# 2. Read in Twitter Data"
   ]
  },
  {
   "cell_type": "markdown",
   "metadata": {},
   "source": [
    "You can read in a csv file containing scraped twitter data that we will then run through to clean.  Please import the file path into string object that currently contains \"./data/test.csv\"."
   ]
  },
  {
   "cell_type": "code",
   "execution_count": 2,
   "metadata": {},
   "outputs": [],
   "source": [
    "data = pd.read_csv('../datasets/scraped_tweets.csv')"
   ]
  },
  {
   "cell_type": "code",
   "execution_count": 3,
   "metadata": {},
   "outputs": [
    {
     "data": {
      "text/html": [
       "<div>\n",
       "<style scoped>\n",
       "    .dataframe tbody tr th:only-of-type {\n",
       "        vertical-align: middle;\n",
       "    }\n",
       "\n",
       "    .dataframe tbody tr th {\n",
       "        vertical-align: top;\n",
       "    }\n",
       "\n",
       "    .dataframe thead th {\n",
       "        text-align: right;\n",
       "    }\n",
       "</style>\n",
       "<table border=\"1\" class=\"dataframe\">\n",
       "  <thead>\n",
       "    <tr style=\"text-align: right;\">\n",
       "      <th></th>\n",
       "      <th>Unnamed: 0</th>\n",
       "      <th>username</th>\n",
       "      <th>tweet</th>\n",
       "      <th>date_posted</th>\n",
       "    </tr>\n",
       "  </thead>\n",
       "  <tbody>\n",
       "    <tr>\n",
       "      <td>0</td>\n",
       "      <td>0</td>\n",
       "      <td>511njbt</td>\n",
       "      <td>Delays on George Washington Bridge westbound f...</td>\n",
       "      <td>2019-11-06 23:59:56+00:00</td>\n",
       "    </tr>\n",
       "    <tr>\n",
       "      <td>1</td>\n",
       "      <td>1</td>\n",
       "      <td>511njbt</td>\n",
       "      <td>Delays on George Washington Bridge westbound f...</td>\n",
       "      <td>2019-11-06 23:58:57+00:00</td>\n",
       "    </tr>\n",
       "    <tr>\n",
       "      <td>2</td>\n",
       "      <td>2</td>\n",
       "      <td>511njtpk</td>\n",
       "      <td>Crash on New Jersey Turnpike - Eastern Spur so...</td>\n",
       "      <td>2019-11-06 23:58:56+00:00</td>\n",
       "    </tr>\n",
       "    <tr>\n",
       "      <td>3</td>\n",
       "      <td>3</td>\n",
       "      <td>511nji295</td>\n",
       "      <td>Crash on I-295 southbound South of Exit 29 - U...</td>\n",
       "      <td>2019-11-06 23:56:56+00:00</td>\n",
       "    </tr>\n",
       "    <tr>\n",
       "      <td>4</td>\n",
       "      <td>4</td>\n",
       "      <td>511njace</td>\n",
       "      <td>Construction, bridge painting on Atlantic City...</td>\n",
       "      <td>2019-11-06 23:52:57+00:00</td>\n",
       "    </tr>\n",
       "  </tbody>\n",
       "</table>\n",
       "</div>"
      ],
      "text/plain": [
       "   Unnamed: 0   username                                              tweet  \\\n",
       "0           0    511njbt  Delays on George Washington Bridge westbound f...   \n",
       "1           1    511njbt  Delays on George Washington Bridge westbound f...   \n",
       "2           2   511njtpk  Crash on New Jersey Turnpike - Eastern Spur so...   \n",
       "3           3  511nji295  Crash on I-295 southbound South of Exit 29 - U...   \n",
       "4           4   511njace  Construction, bridge painting on Atlantic City...   \n",
       "\n",
       "                 date_posted  \n",
       "0  2019-11-06 23:59:56+00:00  \n",
       "1  2019-11-06 23:58:57+00:00  \n",
       "2  2019-11-06 23:58:56+00:00  \n",
       "3  2019-11-06 23:56:56+00:00  \n",
       "4  2019-11-06 23:52:57+00:00  "
      ]
     },
     "execution_count": 3,
     "metadata": {},
     "output_type": "execute_result"
    }
   ],
   "source": [
    "data.head()"
   ]
  },
  {
   "cell_type": "markdown",
   "metadata": {},
   "source": [
    "---\n",
    "\n",
    "# 3. Frame Cleaning"
   ]
  },
  {
   "cell_type": "code",
   "execution_count": 4,
   "metadata": {},
   "outputs": [],
   "source": [
    "data.drop(columns = 'Unnamed: 0', inplace = True)"
   ]
  },
  {
   "cell_type": "code",
   "execution_count": 5,
   "metadata": {},
   "outputs": [
    {
     "data": {
      "text/html": [
       "<div>\n",
       "<style scoped>\n",
       "    .dataframe tbody tr th:only-of-type {\n",
       "        vertical-align: middle;\n",
       "    }\n",
       "\n",
       "    .dataframe tbody tr th {\n",
       "        vertical-align: top;\n",
       "    }\n",
       "\n",
       "    .dataframe thead th {\n",
       "        text-align: right;\n",
       "    }\n",
       "</style>\n",
       "<table border=\"1\" class=\"dataframe\">\n",
       "  <thead>\n",
       "    <tr style=\"text-align: right;\">\n",
       "      <th></th>\n",
       "      <th>username</th>\n",
       "      <th>tweet</th>\n",
       "      <th>date_posted</th>\n",
       "    </tr>\n",
       "  </thead>\n",
       "  <tbody>\n",
       "    <tr>\n",
       "      <td>0</td>\n",
       "      <td>511njbt</td>\n",
       "      <td>Delays on George Washington Bridge westbound f...</td>\n",
       "      <td>2019-11-06 23:59:56+00:00</td>\n",
       "    </tr>\n",
       "    <tr>\n",
       "      <td>1</td>\n",
       "      <td>511njbt</td>\n",
       "      <td>Delays on George Washington Bridge westbound f...</td>\n",
       "      <td>2019-11-06 23:58:57+00:00</td>\n",
       "    </tr>\n",
       "    <tr>\n",
       "      <td>2</td>\n",
       "      <td>511njtpk</td>\n",
       "      <td>Crash on New Jersey Turnpike - Eastern Spur so...</td>\n",
       "      <td>2019-11-06 23:58:56+00:00</td>\n",
       "    </tr>\n",
       "    <tr>\n",
       "      <td>3</td>\n",
       "      <td>511nji295</td>\n",
       "      <td>Crash on I-295 southbound South of Exit 29 - U...</td>\n",
       "      <td>2019-11-06 23:56:56+00:00</td>\n",
       "    </tr>\n",
       "    <tr>\n",
       "      <td>4</td>\n",
       "      <td>511njace</td>\n",
       "      <td>Construction, bridge painting on Atlantic City...</td>\n",
       "      <td>2019-11-06 23:52:57+00:00</td>\n",
       "    </tr>\n",
       "  </tbody>\n",
       "</table>\n",
       "</div>"
      ],
      "text/plain": [
       "    username                                              tweet  \\\n",
       "0    511njbt  Delays on George Washington Bridge westbound f...   \n",
       "1    511njbt  Delays on George Washington Bridge westbound f...   \n",
       "2   511njtpk  Crash on New Jersey Turnpike - Eastern Spur so...   \n",
       "3  511nji295  Crash on I-295 southbound South of Exit 29 - U...   \n",
       "4   511njace  Construction, bridge painting on Atlantic City...   \n",
       "\n",
       "                 date_posted  \n",
       "0  2019-11-06 23:59:56+00:00  \n",
       "1  2019-11-06 23:58:57+00:00  \n",
       "2  2019-11-06 23:58:56+00:00  \n",
       "3  2019-11-06 23:56:56+00:00  \n",
       "4  2019-11-06 23:52:57+00:00  "
      ]
     },
     "execution_count": 5,
     "metadata": {},
     "output_type": "execute_result"
    }
   ],
   "source": [
    "data.head()"
   ]
  },
  {
   "cell_type": "code",
   "execution_count": 6,
   "metadata": {},
   "outputs": [
    {
     "data": {
      "text/plain": [
       "username       object\n",
       "tweet          object\n",
       "date_posted    object\n",
       "dtype: object"
      ]
     },
     "execution_count": 6,
     "metadata": {},
     "output_type": "execute_result"
    }
   ],
   "source": [
    "data.dtypes"
   ]
  },
  {
   "cell_type": "code",
   "execution_count": 7,
   "metadata": {},
   "outputs": [],
   "source": [
    "data['date_posted'] = pd.to_datetime(data['date_posted'])"
   ]
  },
  {
   "cell_type": "code",
   "execution_count": 8,
   "metadata": {},
   "outputs": [
    {
     "data": {
      "text/plain": [
       "username                    object\n",
       "tweet                       object\n",
       "date_posted    datetime64[ns, UTC]\n",
       "dtype: object"
      ]
     },
     "execution_count": 8,
     "metadata": {},
     "output_type": "execute_result"
    }
   ],
   "source": [
    "data.dtypes"
   ]
  },
  {
   "cell_type": "markdown",
   "metadata": {},
   "source": [
    "---\n",
    "\n",
    "# 4. Text Cleaning"
   ]
  },
  {
   "cell_type": "markdown",
   "metadata": {},
   "source": [
    "## 4A. Initial HTML Cleaning"
   ]
  },
  {
   "cell_type": "markdown",
   "metadata": {},
   "source": [
    "First off, we want to run a simiple Beautiful Soup object that begins to clear out some of the legacy HTML characters."
   ]
  },
  {
   "cell_type": "code",
   "execution_count": 9,
   "metadata": {},
   "outputs": [],
   "source": [
    "clean_text = [BeautifulSoup(data.loc[row,'tweet'],'lxml').text for row in list(range(data.shape[0]))]\n",
    "data['tweet'] = clean_text"
   ]
  },
  {
   "cell_type": "code",
   "execution_count": 10,
   "metadata": {
    "scrolled": true
   },
   "outputs": [
    {
     "data": {
      "text/html": [
       "<div>\n",
       "<style scoped>\n",
       "    .dataframe tbody tr th:only-of-type {\n",
       "        vertical-align: middle;\n",
       "    }\n",
       "\n",
       "    .dataframe tbody tr th {\n",
       "        vertical-align: top;\n",
       "    }\n",
       "\n",
       "    .dataframe thead th {\n",
       "        text-align: right;\n",
       "    }\n",
       "</style>\n",
       "<table border=\"1\" class=\"dataframe\">\n",
       "  <thead>\n",
       "    <tr style=\"text-align: right;\">\n",
       "      <th></th>\n",
       "      <th>username</th>\n",
       "      <th>tweet</th>\n",
       "      <th>date_posted</th>\n",
       "    </tr>\n",
       "  </thead>\n",
       "  <tbody>\n",
       "    <tr>\n",
       "      <td>0</td>\n",
       "      <td>511njbt</td>\n",
       "      <td>Delays on George Washington Bridge westbound f...</td>\n",
       "      <td>2019-11-06 23:59:56+00:00</td>\n",
       "    </tr>\n",
       "    <tr>\n",
       "      <td>1</td>\n",
       "      <td>511njbt</td>\n",
       "      <td>Delays on George Washington Bridge westbound f...</td>\n",
       "      <td>2019-11-06 23:58:57+00:00</td>\n",
       "    </tr>\n",
       "    <tr>\n",
       "      <td>2</td>\n",
       "      <td>511njtpk</td>\n",
       "      <td>Crash on New Jersey Turnpike - Eastern Spur so...</td>\n",
       "      <td>2019-11-06 23:58:56+00:00</td>\n",
       "    </tr>\n",
       "    <tr>\n",
       "      <td>3</td>\n",
       "      <td>511nji295</td>\n",
       "      <td>Crash on I-295 southbound South of Exit 29 - U...</td>\n",
       "      <td>2019-11-06 23:56:56+00:00</td>\n",
       "    </tr>\n",
       "    <tr>\n",
       "      <td>4</td>\n",
       "      <td>511njace</td>\n",
       "      <td>Construction, bridge painting on Atlantic City...</td>\n",
       "      <td>2019-11-06 23:52:57+00:00</td>\n",
       "    </tr>\n",
       "  </tbody>\n",
       "</table>\n",
       "</div>"
      ],
      "text/plain": [
       "    username                                              tweet  \\\n",
       "0    511njbt  Delays on George Washington Bridge westbound f...   \n",
       "1    511njbt  Delays on George Washington Bridge westbound f...   \n",
       "2   511njtpk  Crash on New Jersey Turnpike - Eastern Spur so...   \n",
       "3  511nji295  Crash on I-295 southbound South of Exit 29 - U...   \n",
       "4   511njace  Construction, bridge painting on Atlantic City...   \n",
       "\n",
       "                date_posted  \n",
       "0 2019-11-06 23:59:56+00:00  \n",
       "1 2019-11-06 23:58:57+00:00  \n",
       "2 2019-11-06 23:58:56+00:00  \n",
       "3 2019-11-06 23:56:56+00:00  \n",
       "4 2019-11-06 23:52:57+00:00  "
      ]
     },
     "execution_count": 10,
     "metadata": {},
     "output_type": "execute_result"
    }
   ],
   "source": [
    "data.head()"
   ]
  },
  {
   "cell_type": "markdown",
   "metadata": {},
   "source": [
    "## 4B. Links Cleaning"
   ]
  },
  {
   "cell_type": "markdown",
   "metadata": {},
   "source": [
    "Next, we'll work to remove all links from the text."
   ]
  },
  {
   "cell_type": "code",
   "execution_count": 11,
   "metadata": {},
   "outputs": [],
   "source": [
    "# the below regex code replaces the links that being in http in our text\n",
    "data['tweet'] = data.loc[:, 'tweet'].map(lambda row : re.sub(r'http\\S+', '', row))\n",
    "data['tweet'] = data.loc[:, 'tweet'].map(lambda row : re.sub(r'@\\S+', '', row))"
   ]
  },
  {
   "cell_type": "markdown",
   "metadata": {},
   "source": [
    "## 4C. Additional HTML  and Other Text Cleaning"
   ]
  },
  {
   "cell_type": "markdown",
   "metadata": {},
   "source": [
    "We found that while our Beautiful Soup object was pretty helpful in providing an initial clean to the HTML characters, we discover in looking at our text items that there are still some characters left over.  Although some could be removed just with blanks, we will actually replace these with spaces so that original formatting is maintained."
   ]
  },
  {
   "cell_type": "code",
   "execution_count": 12,
   "metadata": {},
   "outputs": [],
   "source": [
    "# list of leftover HTML characters to clean out with blanks\n",
    "rem_chars = ['\\n', '\\ufeff', '>', '**', '\\'ve', '#', '…']"
   ]
  },
  {
   "cell_type": "code",
   "execution_count": 13,
   "metadata": {},
   "outputs": [],
   "source": [
    "for char in rem_chars:\n",
    "    data['tweet'] = data.loc[:, 'tweet'].map(lambda text : text.replace(char, ' '))"
   ]
  },
  {
   "cell_type": "markdown",
   "metadata": {},
   "source": [
    "---\n",
    "\n",
    "# 5. Read to CSV"
   ]
  },
  {
   "cell_type": "code",
   "execution_count": 14,
   "metadata": {},
   "outputs": [],
   "source": [
    "data.to_csv('../datasets/clean_twitter.csv')"
   ]
  },
  {
   "cell_type": "markdown",
   "metadata": {},
   "source": [
    "---"
   ]
  }
 ],
 "metadata": {
  "kernelspec": {
   "display_name": "Python 3",
   "language": "python",
   "name": "python3"
  },
  "language_info": {
   "codemirror_mode": {
    "name": "ipython",
    "version": 3
   },
   "file_extension": ".py",
   "mimetype": "text/x-python",
   "name": "python",
   "nbconvert_exporter": "python",
   "pygments_lexer": "ipython3",
   "version": "3.7.3"
  },
  "toc": {
   "base_numbering": 1,
   "nav_menu": {
    "height": "68px",
    "width": "391px"
   },
   "number_sections": false,
   "sideBar": true,
   "skip_h1_title": false,
   "title_cell": "Table of Contents",
   "title_sidebar": "Contents",
   "toc_cell": false,
   "toc_position": {
    "height": "calc(100% - 180px)",
    "left": "10px",
    "top": "150px",
    "width": "289.594px"
   },
   "toc_section_display": true,
   "toc_window_display": true
  }
 },
 "nbformat": 4,
 "nbformat_minor": 4
}
