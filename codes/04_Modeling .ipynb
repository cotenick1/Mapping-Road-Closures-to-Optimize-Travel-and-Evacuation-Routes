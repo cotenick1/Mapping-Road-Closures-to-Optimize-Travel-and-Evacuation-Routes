{
 "cells": [
  {
   "cell_type": "markdown",
   "metadata": {},
   "source": [
    "# 04. Modeling #\n",
    "---"
   ]
  },
  {
   "cell_type": "markdown",
   "metadata": {},
   "source": [
    "We are trying to identify if our tweet contains information on road closures. In order to train and test our model we have formed a dataset of historic tweets from various accounts related to transport situations - the process has been detailed in a notebook [01 Twitter Scraping](http://localhost:8888/notebooks/PROJECTS/project_5/project_5/codes/01%20Twitter_Scraping.ipynb). We have labeled this data basing on their relevance and constructed the dataset [final_df.csv](http://localhost:8888/edit/PROJECTS/project_5/project_5/datasets/final_df.csv) for future modeling. This process is described in a notebook [02 Pre-processing and EDA](http://localhost:8888/notebooks/PROJECTS/project_5/project_5/codes/02%20Pre-processing%20and%20EDA.ipynb)."
   ]
  },
  {
   "cell_type": "markdown",
   "metadata": {},
   "source": [
    "## Table of Contents ##\n",
    "---"
   ]
  },
  {
   "cell_type": "markdown",
   "metadata": {},
   "source": [
    "- [1. Importing Modules and Data](#1.-Importing-Modules-and-Data)\n",
    "- [2. Baseline Model](#2.-Baseline-Model)\n",
    "- [3. Modeling](#3.-Modeling)\n",
    "    - [3.1 Logistic Regression](#3.1-Logistic-Regression)\n",
    "    - [3.2 Naive Bayes Model](#3.2-Naive-Bayes-Model)\n",
    "    - [3.3 Decision Trees](#3.3-Decision-Trees)\n",
    "    - [3.4 Bagging Classifier](#3.4-Bagging-Classifier)\n",
    "    - [3.5 Random Forest](#3.5-Random-Forest)\n",
    "    - [3.6 Extra Tree Classifier](#3.6-Extra-Tree-Classifier)\n",
    "- [4. Conclusions](#4.-Conclusions)\n",
    "- [5. Test Run](#5.-Test-Run)"
   ]
  },
  {
   "cell_type": "markdown",
   "metadata": {},
   "source": [
    "## 1. Importing Modules and Data ##\n",
    "---"
   ]
  },
  {
   "cell_type": "code",
   "execution_count": 1,
   "metadata": {},
   "outputs": [],
   "source": [
    "#Importing necessary modules\n",
    "import pandas as pd\n",
    "import numpy as np\n",
    "import requests\n",
    "import time\n",
    "from sklearn.pipeline                import Pipeline\n",
    "from sklearn.model_selection         import train_test_split, GridSearchCV\n",
    "from sklearn.linear_model            import LogisticRegression\n",
    "from sklearn.ensemble                import BaggingClassifier,RandomForestClassifier,ExtraTreesClassifier\n",
    "from sklearn.feature_extraction.text import CountVectorizer, TfidfVectorizer\n",
    "from sklearn.feature_extraction      import stop_words\n",
    "from sklearn.naive_bayes             import GaussianNB, MultinomialNB\n",
    "from sklearn.tree                    import DecisionTreeClassifier\n",
    "\n",
    "import warnings"
   ]
  },
  {
   "cell_type": "code",
   "execution_count": 2,
   "metadata": {},
   "outputs": [],
   "source": [
    "#Re-setting future updates warnings\n",
    "warnings.simplefilter(action='ignore', category=FutureWarning)"
   ]
  },
  {
   "cell_type": "code",
   "execution_count": 3,
   "metadata": {},
   "outputs": [
    {
     "data": {
      "text/html": [
       "<div>\n",
       "<style scoped>\n",
       "    .dataframe tbody tr th:only-of-type {\n",
       "        vertical-align: middle;\n",
       "    }\n",
       "\n",
       "    .dataframe tbody tr th {\n",
       "        vertical-align: top;\n",
       "    }\n",
       "\n",
       "    .dataframe thead th {\n",
       "        text-align: right;\n",
       "    }\n",
       "</style>\n",
       "<table border=\"1\" class=\"dataframe\">\n",
       "  <thead>\n",
       "    <tr style=\"text-align: right;\">\n",
       "      <th></th>\n",
       "      <th>Unnamed: 0</th>\n",
       "      <th>index</th>\n",
       "      <th>tweet</th>\n",
       "      <th>mark</th>\n",
       "    </tr>\n",
       "  </thead>\n",
       "  <tbody>\n",
       "    <tr>\n",
       "      <td>0</td>\n",
       "      <td>0</td>\n",
       "      <td>3</td>\n",
       "      <td>Crash on I-295 southbound South of Exit 29 - U...</td>\n",
       "      <td>0</td>\n",
       "    </tr>\n",
       "    <tr>\n",
       "      <td>1</td>\n",
       "      <td>1</td>\n",
       "      <td>4</td>\n",
       "      <td>Construction, bridge painting on Atlantic City...</td>\n",
       "      <td>0</td>\n",
       "    </tr>\n",
       "    <tr>\n",
       "      <td>2</td>\n",
       "      <td>2</td>\n",
       "      <td>8</td>\n",
       "      <td>Roadwork on New Jersey Turnpike inner roadway ...</td>\n",
       "      <td>0</td>\n",
       "    </tr>\n",
       "    <tr>\n",
       "      <td>3</td>\n",
       "      <td>3</td>\n",
       "      <td>9</td>\n",
       "      <td>Crash on I-76 eastbound at Exit 2 - I-676 (Cam...</td>\n",
       "      <td>0</td>\n",
       "    </tr>\n",
       "    <tr>\n",
       "      <td>4</td>\n",
       "      <td>4</td>\n",
       "      <td>19</td>\n",
       "      <td>Roadwork on New Jersey Turnpike inner roadway ...</td>\n",
       "      <td>0</td>\n",
       "    </tr>\n",
       "  </tbody>\n",
       "</table>\n",
       "</div>"
      ],
      "text/plain": [
       "   Unnamed: 0  index                                              tweet  mark\n",
       "0           0      3  Crash on I-295 southbound South of Exit 29 - U...     0\n",
       "1           1      4  Construction, bridge painting on Atlantic City...     0\n",
       "2           2      8  Roadwork on New Jersey Turnpike inner roadway ...     0\n",
       "3           3      9  Crash on I-76 eastbound at Exit 2 - I-676 (Cam...     0\n",
       "4           4     19  Roadwork on New Jersey Turnpike inner roadway ...     0"
      ]
     },
     "execution_count": 3,
     "metadata": {},
     "output_type": "execute_result"
    }
   ],
   "source": [
    "#Reading our data from a .csv file \n",
    "df = pd.read_csv('../datasets/modeling_df.csv')\n",
    "\n",
    "#Initial data check\n",
    "df.head()"
   ]
  },
  {
   "cell_type": "code",
   "execution_count": 4,
   "metadata": {},
   "outputs": [
    {
     "data": {
      "text/plain": [
       "Index(['Unnamed: 0', 'index', 'tweet', 'mark'], dtype='object')"
      ]
     },
     "execution_count": 4,
     "metadata": {},
     "output_type": "execute_result"
    }
   ],
   "source": [
    "#Checking Data Frame's columns\n",
    "df.columns"
   ]
  },
  {
   "cell_type": "code",
   "execution_count": 5,
   "metadata": {},
   "outputs": [],
   "source": [
    "df = df[df['tweet'].notna()]"
   ]
  },
  {
   "cell_type": "code",
   "execution_count": 6,
   "metadata": {},
   "outputs": [],
   "source": [
    "#Forming our features matrix and target value\n",
    "X = df['tweet'] #Features matrix\n",
    "y = df['mark'] #Target value"
   ]
  },
  {
   "cell_type": "markdown",
   "metadata": {},
   "source": [
    "## 2. Baseline Model ##\n",
    "---"
   ]
  },
  {
   "cell_type": "markdown",
   "metadata": {},
   "source": [
    "In order to set our comparison base we need to define our model evaluation criteria and define the baseline model. For the sake of simplicity we decided to use accuracy as the basic evaluator for our classification models. Also, accuracy seems to be the most logical criteria as we are aiming at identifying our \"pozitive\" tweets as tweets with actual road closure information. Hence, we do not really need to work with the false positives (they will be eliminated as not having any valuable information at later stages), as well as false negatives (we are using a bunch of twitter channels, and they have similar information - hence our chances of missing relevant information are relatively small). "
   ]
  },
  {
   "cell_type": "code",
   "execution_count": 7,
   "metadata": {},
   "outputs": [
    {
     "data": {
      "text/plain": [
       "1    1622\n",
       "0    1622\n",
       "Name: mark, dtype: int64"
      ]
     },
     "execution_count": 7,
     "metadata": {},
     "output_type": "execute_result"
    }
   ],
   "source": [
    "#Revising our target value dispersion\n",
    "y.value_counts()"
   ]
  },
  {
   "cell_type": "code",
   "execution_count": 8,
   "metadata": {},
   "outputs": [
    {
     "data": {
      "text/plain": [
       "0.5"
      ]
     },
     "execution_count": 8,
     "metadata": {},
     "output_type": "execute_result"
    }
   ],
   "source": [
    "#Defining our baseline model accuracy\n",
    "baseline_accuracy = y.value_counts()[1]/(y.shape[0])\n",
    "baseline_accuracy"
   ]
  },
  {
   "cell_type": "markdown",
   "metadata": {},
   "source": [
    "Hence, we are going to look for accuracy improvements in comparison with our baseline model accuracy of 0.5 (or 50%)."
   ]
  },
  {
   "cell_type": "markdown",
   "metadata": {},
   "source": [
    "## 3. Modeling ##\n",
    "---"
   ]
  },
  {
   "cell_type": "markdown",
   "metadata": {},
   "source": [
    "Let's try several classifications models along with the model tuning techniques. "
   ]
  },
  {
   "cell_type": "markdown",
   "metadata": {},
   "source": [
    "## 3.1 Logistic Regression ##"
   ]
  },
  {
   "cell_type": "markdown",
   "metadata": {},
   "source": [
    "The first model to try is Logistic Regression Classificator. It's a natural choice for a classification problem, as the model and it's coefficients are very interpretable, and we aslo could normally expect quite satisfactory and stable model's performance. "
   ]
  },
  {
   "cell_type": "code",
   "execution_count": 9,
   "metadata": {},
   "outputs": [],
   "source": [
    "#Splitting our dataset on training and testing sets\n",
    "X_train, X_test, y_train, y_test = train_test_split(X, y, random_state=123)\n",
    "\n",
    "#Instantiating a pipeline for CountVectorizer\n",
    "pipe_cvec = Pipeline(steps = [('vectorizer', CountVectorizer()), \n",
    "                        ('model', LogisticRegression())])\n",
    "\n",
    "#Setting grid search parameters\n",
    "hyperparams_cvec = {'vectorizer__max_features':[1000,2500,5000],\n",
    "                    'vectorizer__ngram_range':[(1,1),(2,2),(1,2), (1,3),(2,3),(3,3)],\n",
    "                    'vectorizer__stop_words':[None, 'english']\n",
    "                   }\n",
    "\n",
    "#Instantiating a pipeline for TF-IDF Vectorizer\n",
    "pipe_tfidf = Pipeline(steps = [('vectorizer', TfidfVectorizer()), \n",
    "                        ('model', LogisticRegression())])\n",
    "\n",
    "#Setting grid search parameters\n",
    "hyperparams_tfidf = {'vectorizer__max_features':[1000,2500,5000],\n",
    "                    'vectorizer__ngram_range':[(1,1),(2,2),(1,2), (1,3),(2,3),(3,3)],\n",
    "                    'vectorizer__stop_words':[None, 'english'],\n",
    "                   }\n",
    "#Instantiating grid search with 3-fold cross-validation\n",
    "gs_cvec = GridSearchCV(pipe_cvec,\n",
    "                      hyperparams_cvec,\n",
    "                      cv=3,\n",
    "                       n_jobs=-1)\n",
    "gs_tfidf = GridSearchCV(pipe_tfidf,\n",
    "                       hyperparams_tfidf,\n",
    "                       cv=3,\n",
    "                       n_jobs=-1)\n",
    "\n",
    "#Fitting grid search\n",
    "results_cvec = gs_cvec.fit(X_train,y_train)\n",
    "results_tfidf = gs_tfidf.fit(X_train,y_train)"
   ]
  },
  {
   "cell_type": "code",
   "execution_count": 10,
   "metadata": {},
   "outputs": [
    {
     "data": {
      "text/plain": [
       "0.9942457870941225"
      ]
     },
     "execution_count": 10,
     "metadata": {},
     "output_type": "execute_result"
    }
   ],
   "source": [
    "#Best accuracy score for a CountVectorizer pipeline\n",
    "results_cvec.best_score_"
   ]
  },
  {
   "cell_type": "code",
   "execution_count": 11,
   "metadata": {},
   "outputs": [
    {
     "data": {
      "text/plain": [
       "0.9995889847924373"
      ]
     },
     "execution_count": 11,
     "metadata": {},
     "output_type": "execute_result"
    }
   ],
   "source": [
    "#Best accuracy on the training set for a CountVectorizer pipeline\n",
    "results_cvec.score(X_train,y_train)"
   ]
  },
  {
   "cell_type": "code",
   "execution_count": 12,
   "metadata": {},
   "outputs": [
    {
     "data": {
      "text/plain": [
       "0.979449239621866"
      ]
     },
     "execution_count": 12,
     "metadata": {},
     "output_type": "execute_result"
    }
   ],
   "source": [
    "#Best accuracy score for a TD-IDF pipeline\n",
    "results_tfidf.best_score_ "
   ]
  },
  {
   "cell_type": "code",
   "execution_count": 13,
   "metadata": {},
   "outputs": [
    {
     "data": {
      "text/plain": [
       "0.9921907110563091"
      ]
     },
     "execution_count": 13,
     "metadata": {},
     "output_type": "execute_result"
    }
   ],
   "source": [
    "#Best accuracy on the training set for a TF-IDF pipeline\n",
    "results_tfidf.score(X_train,y_train)"
   ]
  },
  {
   "cell_type": "code",
   "execution_count": 14,
   "metadata": {},
   "outputs": [
    {
     "data": {
      "text/plain": [
       "Pipeline(memory=None,\n",
       "         steps=[('vectorizer',\n",
       "                 CountVectorizer(analyzer='word', binary=False,\n",
       "                                 decode_error='strict',\n",
       "                                 dtype=<class 'numpy.int64'>, encoding='utf-8',\n",
       "                                 input='content', lowercase=True, max_df=1.0,\n",
       "                                 max_features=2500, min_df=1,\n",
       "                                 ngram_range=(1, 2), preprocessor=None,\n",
       "                                 stop_words='english', strip_accents=None,\n",
       "                                 token_pattern='(?u)\\\\b\\\\w\\\\w+\\\\b',\n",
       "                                 tokenizer=None, vocabulary=None)),\n",
       "                ('model',\n",
       "                 LogisticRegression(C=1.0, class_weight=None, dual=False,\n",
       "                                    fit_intercept=True, intercept_scaling=1,\n",
       "                                    l1_ratio=None, max_iter=100,\n",
       "                                    multi_class='warn', n_jobs=None,\n",
       "                                    penalty='l2', random_state=None,\n",
       "                                    solver='warn', tol=0.0001, verbose=0,\n",
       "                                    warm_start=False))],\n",
       "         verbose=False)"
      ]
     },
     "execution_count": 14,
     "metadata": {},
     "output_type": "execute_result"
    }
   ],
   "source": [
    "#Our best Logistic Regression model's parameters \n",
    "results_cvec.best_estimator_"
   ]
  },
  {
   "cell_type": "markdown",
   "metadata": {},
   "source": [
    "As we could see, the Logistic Regression model with CountVectorizer performs quite well with a testing set score of "
   ]
  },
  {
   "cell_type": "code",
   "execution_count": 15,
   "metadata": {},
   "outputs": [
    {
     "data": {
      "text/plain": [
       "0.9996"
      ]
     },
     "execution_count": 15,
     "metadata": {},
     "output_type": "execute_result"
    }
   ],
   "source": [
    "round(results_cvec.score(X_train,y_train),4)"
   ]
  },
  {
   "cell_type": "markdown",
   "metadata": {},
   "source": [
    "on a training set, and with "
   ]
  },
  {
   "cell_type": "code",
   "execution_count": 16,
   "metadata": {},
   "outputs": [
    {
     "data": {
      "text/plain": [
       "0.9942"
      ]
     },
     "execution_count": 16,
     "metadata": {},
     "output_type": "execute_result"
    }
   ],
   "source": [
    "round(results_cvec.best_score_, 4)"
   ]
  },
  {
   "cell_type": "markdown",
   "metadata": {},
   "source": [
    "on a testing set. These scores indicate a stable and well-balanced model with great potential for generalizing.\n",
    "\n",
    "In order to solidify our findings, let's try some more advanced models in order to improve accuracy.\n",
    "\n",
    "We should chose using CountVectorizer for the future models as it's algoritm fits our purpose of filtering tweets with closure information better - we still need a tweet with many 'close' stems repetitions, while it might be penalized by Tf-idf. "
   ]
  },
  {
   "cell_type": "code",
   "execution_count": 17,
   "metadata": {},
   "outputs": [
    {
     "data": {
      "text/plain": [
       "{'LR_cvec': [99.96000000000001, 99.42]}"
      ]
     },
     "execution_count": 17,
     "metadata": {},
     "output_type": "execute_result"
    }
   ],
   "source": [
    "#Initializing a dictionary to store model scores\n",
    "scores = {}\n",
    "\n",
    "#Adding our scores\n",
    "scores.update({'LR_cvec':[round(results_cvec.score(X_train,y_train),4)*100, round(results_cvec.best_score_, 4)*100 ]})\n",
    "scores"
   ]
  },
  {
   "cell_type": "markdown",
   "metadata": {},
   "source": [
    "## 3.2 Naive Bayes Model##\n",
    "\n",
    "The choice of Naive Bayes model depends on our feature matrix, which is largely dependent on our choice of vectorizer. \n",
    "With Count Vectorizer our features matrix contains only positive integer values - hence the Naive Bayes Multinomial model will be the most appropriate. "
   ]
  },
  {
   "cell_type": "code",
   "execution_count": 18,
   "metadata": {},
   "outputs": [],
   "source": [
    "#Instantiating model\n",
    "mnb = MultinomialNB()\n",
    "\n",
    "#Instantiating Count Vectorizer\n",
    "cvec=CountVectorizer()\n",
    "\n",
    "#Vectorizing Transforming our features matriz\n",
    "X_mnb = cvec.fit_transform(X)\n",
    "\n",
    "#Trasforming our sparse matrix to array\n",
    "X_mnb = X_mnb.toarray()\n",
    "\n",
    "#Train-test split with stratification for this particular method\n",
    "X_train_mnb, X_test_mnb, y_train_mnb, y_test_mnb = train_test_split(X_mnb, y, random_state=123)\n",
    "\n",
    "#Fitting the model\n",
    "result_mnb = mnb.fit(X_train_mnb,y_train_mnb)"
   ]
  },
  {
   "cell_type": "code",
   "execution_count": 19,
   "metadata": {},
   "outputs": [
    {
     "data": {
      "text/plain": [
       "0.9617755856966708"
      ]
     },
     "execution_count": 19,
     "metadata": {},
     "output_type": "execute_result"
    }
   ],
   "source": [
    "#Getting model's accuracy on trainig set\n",
    "result_mnb.score(X_train_mnb, y_train_mnb)"
   ]
  },
  {
   "cell_type": "code",
   "execution_count": 20,
   "metadata": {},
   "outputs": [
    {
     "data": {
      "text/plain": [
       "0.9531442663378545"
      ]
     },
     "execution_count": 20,
     "metadata": {},
     "output_type": "execute_result"
    }
   ],
   "source": [
    "#Getting model's accuracy on testing set\n",
    "result_mnb.score(X_test_mnb, y_test_mnb)"
   ]
  },
  {
   "cell_type": "markdown",
   "metadata": {},
   "source": [
    "These scores also indicate still a quite good calssificator, but they're below Logistic regression's preformance. Also there are signs of the model being a bit underfit on training data."
   ]
  },
  {
   "cell_type": "code",
   "execution_count": 21,
   "metadata": {},
   "outputs": [
    {
     "data": {
      "text/plain": [
       "{'LR_cvec': [99.96000000000001, 99.42],\n",
       " 'Naive Bayes': [96.17999999999999, 95.30999999999999]}"
      ]
     },
     "execution_count": 21,
     "metadata": {},
     "output_type": "execute_result"
    }
   ],
   "source": [
    "#Updating scores dictionary\n",
    "scores.update({'Naive Bayes':[round(result_mnb.score(X_train_mnb, y_train_mnb),4)*100, \n",
    "                              round(result_mnb.score(X_test_mnb, y_test_mnb),4)*100]})\n",
    "\n",
    "scores"
   ]
  },
  {
   "cell_type": "markdown",
   "metadata": {},
   "source": [
    "## 3.3 Decision Trees ##"
   ]
  },
  {
   "cell_type": "code",
   "execution_count": 22,
   "metadata": {},
   "outputs": [],
   "source": [
    "#Instantiating the model\n",
    "tree = DecisionTreeClassifier()\n",
    "\n",
    "#Instantiating Count Vectorizer\n",
    "cvec = CountVectorizer()\n",
    "\n",
    "#Vectorizing and transforming our features matrix\n",
    "X_train_cvec=cvec.fit_transform(X_train)\n",
    "X_test_cvec = cvec.transform(X_test)\n",
    "\n",
    "#Fitting the model\n",
    "result_tree_cvec = tree.fit(X_train_cvec, y_train)"
   ]
  },
  {
   "cell_type": "code",
   "execution_count": 23,
   "metadata": {},
   "outputs": [
    {
     "data": {
      "text/plain": [
       "1.0"
      ]
     },
     "execution_count": 23,
     "metadata": {},
     "output_type": "execute_result"
    }
   ],
   "source": [
    "#Accuracy score training set\n",
    "result_tree_cvec.score(X_train_cvec, y_train)"
   ]
  },
  {
   "cell_type": "code",
   "execution_count": 24,
   "metadata": {},
   "outputs": [
    {
     "data": {
      "text/plain": [
       "0.9975339087546239"
      ]
     },
     "execution_count": 24,
     "metadata": {},
     "output_type": "execute_result"
    }
   ],
   "source": [
    "#Accuracy score testing set\n",
    "result_tree_cvec.score(X_test_cvec, y_test)"
   ]
  },
  {
   "cell_type": "markdown",
   "metadata": {},
   "source": [
    "These accuracy scores of **1.0** on the training set and **0.9948** on the testing set showing a great and stable performance.  Let's see if a Bagging Classifier brings us a bit of improvement comaring to a classical Decision Tree classifier on a testing set and outperform Logistic Regression"
   ]
  },
  {
   "cell_type": "code",
   "execution_count": 25,
   "metadata": {},
   "outputs": [
    {
     "data": {
      "text/plain": [
       "{'LR_cvec': [99.96000000000001, 99.42],\n",
       " 'Naive Bayes': [96.17999999999999, 95.30999999999999],\n",
       " 'Decision Trees': [100.0, 99.75]}"
      ]
     },
     "execution_count": 25,
     "metadata": {},
     "output_type": "execute_result"
    }
   ],
   "source": [
    "#Updating scores dictionary\n",
    "scores.update({'Decision Trees':[round(result_tree_cvec.score(X_train_cvec, y_train),4)*100, \n",
    "                              round(result_tree_cvec.score(X_test_cvec, y_test),4)*100]})\n",
    "\n",
    "scores"
   ]
  },
  {
   "cell_type": "markdown",
   "metadata": {},
   "source": [
    "## 3.4 Bagging Classifier ##"
   ]
  },
  {
   "cell_type": "code",
   "execution_count": 26,
   "metadata": {},
   "outputs": [
    {
     "data": {
      "text/plain": [
       "0.9979449239621866"
      ]
     },
     "execution_count": 26,
     "metadata": {},
     "output_type": "execute_result"
    }
   ],
   "source": [
    "#Initiating pipeling and grid search on bagging classifier hyperparameters\n",
    "pipe_bag = Pipeline(steps = [('vectorizer', CountVectorizer()), \n",
    "                        ('model', BaggingClassifier())])\n",
    "\n",
    "hyperparams_bag = {'vectorizer__max_features':[1000,2500,5000],\n",
    "                    'vectorizer__ngram_range':[(1,1),(2,2),(1,2), (1,3),(2,3),(3,3)],\n",
    "                    'vectorizer__stop_words':[None, 'english'],\n",
    "                     'model__n_estimators':[11,33,55,77,99,111]\n",
    "                   }\n",
    "\n",
    "gs_bag = GridSearchCV(pipe_bag,\n",
    "                      hyperparams_bag,\n",
    "                      cv=3,\n",
    "                      n_jobs=-1)\n",
    "results_bag = gs_bag.fit(X_train,y_train)\n",
    "\n",
    "#Best score for a bagging classifier model\n",
    "results_bag.best_score_"
   ]
  },
  {
   "cell_type": "code",
   "execution_count": 27,
   "metadata": {},
   "outputs": [
    {
     "data": {
      "text/plain": [
       "Pipeline(memory=None,\n",
       "         steps=[('vectorizer',\n",
       "                 CountVectorizer(analyzer='word', binary=False,\n",
       "                                 decode_error='strict',\n",
       "                                 dtype=<class 'numpy.int64'>, encoding='utf-8',\n",
       "                                 input='content', lowercase=True, max_df=1.0,\n",
       "                                 max_features=5000, min_df=1,\n",
       "                                 ngram_range=(1, 2), preprocessor=None,\n",
       "                                 stop_words='english', strip_accents=None,\n",
       "                                 token_pattern='(?u)\\\\b\\\\w\\\\w+\\\\b',\n",
       "                                 tokenizer=None, vocabulary=None)),\n",
       "                ('model',\n",
       "                 BaggingClassifier(base_estimator=None, bootstrap=True,\n",
       "                                   bootstrap_features=False, max_features=1.0,\n",
       "                                   max_samples=1.0, n_estimators=11,\n",
       "                                   n_jobs=None, oob_score=False,\n",
       "                                   random_state=None, verbose=0,\n",
       "                                   warm_start=False))],\n",
       "         verbose=False)"
      ]
     },
     "execution_count": 27,
     "metadata": {},
     "output_type": "execute_result"
    }
   ],
   "source": [
    "#Best baggingn classifier model parameters\n",
    "best_bag = results_bag.best_estimator_\n",
    "best_bag"
   ]
  },
  {
   "cell_type": "code",
   "execution_count": 28,
   "metadata": {},
   "outputs": [
    {
     "data": {
      "text/plain": [
       "0.9995889847924373"
      ]
     },
     "execution_count": 28,
     "metadata": {},
     "output_type": "execute_result"
    }
   ],
   "source": [
    "#Score on a training set\n",
    "best_bag.score(X_train, y_train)"
   ]
  },
  {
   "cell_type": "markdown",
   "metadata": {},
   "source": [
    "We could see that the bagging classifier with the best parameters gives us an accuracy score of **1.0** on a training set and an accuracy of **0.9952** on a testing set, which is a bit of an improvement for the best Logistic Regression model. "
   ]
  },
  {
   "cell_type": "code",
   "execution_count": 29,
   "metadata": {},
   "outputs": [
    {
     "data": {
      "text/plain": [
       "{'LR_cvec': [99.96000000000001, 99.42],\n",
       " 'Naive Bayes': [96.17999999999999, 95.30999999999999],\n",
       " 'Decision Trees': [100.0, 99.75],\n",
       " 'Bagging Classifier': [99.96000000000001, 99.79]}"
      ]
     },
     "execution_count": 29,
     "metadata": {},
     "output_type": "execute_result"
    }
   ],
   "source": [
    "#Updating scores dictionary\n",
    "scores.update({'Bagging Classifier':[round(results_bag.score(X_train, y_train),4)*100, \n",
    "                              round(results_bag.best_score_,4)*100]})\n",
    "\n",
    "scores"
   ]
  },
  {
   "cell_type": "markdown",
   "metadata": {},
   "source": [
    "## 3.5 Random Forest ##"
   ]
  },
  {
   "cell_type": "markdown",
   "metadata": {},
   "source": [
    "Let's try a Random Forest Classifier in order to further improve our model's performance. "
   ]
  },
  {
   "cell_type": "code",
   "execution_count": 30,
   "metadata": {},
   "outputs": [
    {
     "data": {
      "text/plain": [
       "0.9991779695848746"
      ]
     },
     "execution_count": 30,
     "metadata": {},
     "output_type": "execute_result"
    }
   ],
   "source": [
    "#Instantiating the model\n",
    "rf = RandomForestClassifier()\n",
    "\n",
    "#Fitting the model\n",
    "results_rf_cvec = rf.fit(X_train_cvec, y_train)\n",
    "\n",
    "#Accuracy score training set\n",
    "results_rf_cvec.score(X_train_cvec, y_train)"
   ]
  },
  {
   "cell_type": "code",
   "execution_count": 31,
   "metadata": {},
   "outputs": [
    {
     "data": {
      "text/plain": [
       "0.9889025893958077"
      ]
     },
     "execution_count": 31,
     "metadata": {},
     "output_type": "execute_result"
    }
   ],
   "source": [
    "#Accuracy score testing set\n",
    "results_rf_cvec.score(X_test_cvec, y_test)"
   ]
  },
  {
   "cell_type": "code",
   "execution_count": 32,
   "metadata": {},
   "outputs": [
    {
     "data": {
      "text/plain": [
       "0.9905466502260584"
      ]
     },
     "execution_count": 32,
     "metadata": {},
     "output_type": "execute_result"
    }
   ],
   "source": [
    "#Setting a dictionary of parameters for a grid search\n",
    "rf_params = { 'n_estimators': np.arange(20,200,10) }\n",
    "\n",
    "#Instantiating a grid search with the parameters chosen above and a 5-fold cross-validation\n",
    "gs = GridSearchCV(rf, param_grid=rf_params, cv=5)\n",
    "\n",
    "#Fitting our grid search \n",
    "gs.fit(X_train_cvec, y_train)\n",
    "\n",
    "#Getting our best score for our best parameter\n",
    "gs.best_score_"
   ]
  },
  {
   "cell_type": "code",
   "execution_count": 33,
   "metadata": {},
   "outputs": [
    {
     "data": {
      "text/plain": [
       "1.0"
      ]
     },
     "execution_count": 33,
     "metadata": {},
     "output_type": "execute_result"
    }
   ],
   "source": [
    "#Getting our best estimator's training score\n",
    "gs_best = gs.best_estimator_\n",
    "gs_best.score(X_train_cvec,y_train)"
   ]
  },
  {
   "cell_type": "code",
   "execution_count": 34,
   "metadata": {},
   "outputs": [
    {
     "data": {
      "text/plain": [
       "{'n_estimators': 40}"
      ]
     },
     "execution_count": 34,
     "metadata": {},
     "output_type": "execute_result"
    }
   ],
   "source": [
    "#Getting our best parameter\n",
    "gs.best_params_"
   ]
  },
  {
   "cell_type": "markdown",
   "metadata": {},
   "source": [
    "As we could see, we have not gotten any improvement on our training and testing accuracy scores in comparison with our Bagging classifier."
   ]
  },
  {
   "cell_type": "code",
   "execution_count": 35,
   "metadata": {},
   "outputs": [
    {
     "data": {
      "text/plain": [
       "{'LR_cvec': [99.96000000000001, 99.42],\n",
       " 'Naive Bayes': [96.17999999999999, 95.30999999999999],\n",
       " 'Decision Trees': [100.0, 99.75],\n",
       " 'Bagging Classifier': [99.96000000000001, 99.79],\n",
       " 'Random Forest': [100.0, 99.05000000000001]}"
      ]
     },
     "execution_count": 35,
     "metadata": {},
     "output_type": "execute_result"
    }
   ],
   "source": [
    "#Updating scores dictionary\n",
    "scores.update({'Random Forest':[round(gs_best.score(X_train_cvec,y_train),4)*100, \n",
    "                              round(gs.best_score_,4)*100]})\n",
    "\n",
    "scores"
   ]
  },
  {
   "cell_type": "markdown",
   "metadata": {},
   "source": [
    "## 3.6 Extra Tree Classifier ##"
   ]
  },
  {
   "cell_type": "markdown",
   "metadata": {},
   "source": [
    "Let's try running an Extra Tree Classifier on our data."
   ]
  },
  {
   "cell_type": "code",
   "execution_count": 36,
   "metadata": {},
   "outputs": [
    {
     "data": {
      "text/plain": [
       "1.0"
      ]
     },
     "execution_count": 36,
     "metadata": {},
     "output_type": "execute_result"
    }
   ],
   "source": [
    "#Instantiating an Extra Trees Clasifier with n_estimators = 40\n",
    "et = ExtraTreesClassifier(n_estimators=40)\n",
    "\n",
    "#Fitting the model\n",
    "results_et_cvec = et.fit(X_train_cvec, y_train)\n",
    "\n",
    "#Accuracy score training set\n",
    "results_et_cvec.score(X_train_cvec, y_train)"
   ]
  },
  {
   "cell_type": "code",
   "execution_count": 37,
   "metadata": {},
   "outputs": [
    {
     "data": {
      "text/plain": [
       "0.9889025893958077"
      ]
     },
     "execution_count": 37,
     "metadata": {},
     "output_type": "execute_result"
    }
   ],
   "source": [
    "#Accuracy score testing set\n",
    "results_et_cvec.score(X_test_cvec, y_test)"
   ]
  },
  {
   "cell_type": "code",
   "execution_count": 38,
   "metadata": {},
   "outputs": [
    {
     "data": {
      "text/plain": [
       "0.9917796958487464"
      ]
     },
     "execution_count": 38,
     "metadata": {},
     "output_type": "execute_result"
    }
   ],
   "source": [
    "#Setting a dictionary of parameters for a grid search\n",
    "et_params = { 'n_estimators': np.arange(20,200,10) }\n",
    "\n",
    "#Instantiating a grid search with the parameters chosen above and a 5-fold cross-validation\n",
    "gs = GridSearchCV(et, param_grid=et_params, cv=5)\n",
    "\n",
    "#Fitting our grid search \n",
    "gs.fit(X_train_cvec, y_train)\n",
    "\n",
    "#Getting our best score for our best parameter\n",
    "gs.best_score_"
   ]
  },
  {
   "cell_type": "code",
   "execution_count": 39,
   "metadata": {},
   "outputs": [
    {
     "data": {
      "text/plain": [
       "1.0"
      ]
     },
     "execution_count": 39,
     "metadata": {},
     "output_type": "execute_result"
    }
   ],
   "source": [
    "#Saving our best Extra Tree model\n",
    "best_et = gs.best_estimator_\n",
    "\n",
    "#Best ET model accuracy on training set\n",
    "best_et.score(X_train_cvec, y_train)"
   ]
  },
  {
   "cell_type": "code",
   "execution_count": 40,
   "metadata": {},
   "outputs": [
    {
     "data": {
      "text/plain": [
       "{'LR_cvec': [99.96000000000001, 99.42],\n",
       " 'Naive Bayes': [96.17999999999999, 95.30999999999999],\n",
       " 'Decision Trees': [100.0, 99.75],\n",
       " 'Bagging Classifier': [99.96000000000001, 99.79],\n",
       " 'Random Forest': [100.0, 99.05000000000001],\n",
       " 'Extra Trees': [100.0, 99.18]}"
      ]
     },
     "execution_count": 40,
     "metadata": {},
     "output_type": "execute_result"
    }
   ],
   "source": [
    "#Updating scores dictionary\n",
    "scores.update({'Extra Trees':[round(best_et.score(X_train_cvec,y_train),4)*100, \n",
    "                              round((gs.best_score_*100),2)]})\n",
    "\n",
    "scores"
   ]
  },
  {
   "cell_type": "code",
   "execution_count": 41,
   "metadata": {},
   "outputs": [
    {
     "data": {
      "text/html": [
       "<div>\n",
       "<style scoped>\n",
       "    .dataframe tbody tr th:only-of-type {\n",
       "        vertical-align: middle;\n",
       "    }\n",
       "\n",
       "    .dataframe tbody tr th {\n",
       "        vertical-align: top;\n",
       "    }\n",
       "\n",
       "    .dataframe thead th {\n",
       "        text-align: right;\n",
       "    }\n",
       "</style>\n",
       "<table border=\"1\" class=\"dataframe\">\n",
       "  <thead>\n",
       "    <tr style=\"text-align: right;\">\n",
       "      <th></th>\n",
       "      <th>train</th>\n",
       "      <th>test</th>\n",
       "    </tr>\n",
       "  </thead>\n",
       "  <tbody>\n",
       "    <tr>\n",
       "      <td>LR_cvec</td>\n",
       "      <td>99.96</td>\n",
       "      <td>99.42</td>\n",
       "    </tr>\n",
       "    <tr>\n",
       "      <td>Naive Bayes</td>\n",
       "      <td>96.18</td>\n",
       "      <td>95.31</td>\n",
       "    </tr>\n",
       "    <tr>\n",
       "      <td>Decision Trees</td>\n",
       "      <td>100.00</td>\n",
       "      <td>99.75</td>\n",
       "    </tr>\n",
       "    <tr>\n",
       "      <td>Bagging Classifier</td>\n",
       "      <td>99.96</td>\n",
       "      <td>99.79</td>\n",
       "    </tr>\n",
       "    <tr>\n",
       "      <td>Random Forest</td>\n",
       "      <td>100.00</td>\n",
       "      <td>99.05</td>\n",
       "    </tr>\n",
       "    <tr>\n",
       "      <td>Extra Trees</td>\n",
       "      <td>100.00</td>\n",
       "      <td>99.18</td>\n",
       "    </tr>\n",
       "  </tbody>\n",
       "</table>\n",
       "</div>"
      ],
      "text/plain": [
       "                     train   test\n",
       "LR_cvec              99.96  99.42\n",
       "Naive Bayes          96.18  95.31\n",
       "Decision Trees      100.00  99.75\n",
       "Bagging Classifier   99.96  99.79\n",
       "Random Forest       100.00  99.05\n",
       "Extra Trees         100.00  99.18"
      ]
     },
     "execution_count": 41,
     "metadata": {},
     "output_type": "execute_result"
    }
   ],
   "source": [
    "#Saving accuracy scores as a DataFrame\n",
    "scores_df = pd.DataFrame(data = scores.values(), index = scores.keys(), columns = ['train', 'test'])\n",
    "scores_df"
   ]
  },
  {
   "cell_type": "code",
   "execution_count": 42,
   "metadata": {},
   "outputs": [],
   "source": [
    "#Saving dataframe to excel file for future project presentation\n",
    "scores_df.to_excel('../datasets/model_scores.xls',\n",
    "                  float_format=\"%.2f\")"
   ]
  },
  {
   "cell_type": "code",
   "execution_count": 43,
   "metadata": {},
   "outputs": [
    {
     "data": {
      "image/png": "[encoded data removed]",
      "text/plain": [
       "<Figure size 1440x864 with 1 Axes>"
      ]
     },
     "metadata": {
      "needs_background": "light"
     },
     "output_type": "display_data"
    }
   ],
   "source": [
    "import matplotlib.pyplot as plt\n",
    "\n",
    "%matplotlib inline\n",
    "\n",
    "\n",
    "# create plot\n",
    "\n",
    "\n",
    "fig, ax = plt.subplots(figsize=(20,12))\n",
    "\n",
    "# data to plot\n",
    "n_groups = len(scores_df.index)\n",
    "index = np.arange(n_groups)\n",
    "bar_width = 0.35\n",
    "opacity = 0.5\n",
    "\n",
    "rects1 = plt.bar(index, scores_df['train'], bar_width,\n",
    "alpha=opacity,\n",
    "color='cyan',\n",
    "label='Test')\n",
    "\n",
    "rects2 = plt.bar(index + bar_width, scores_df['test'], bar_width,\n",
    "alpha=opacity,\n",
    "color='pink',\n",
    "label='Test')\n",
    "\n",
    "plt.xlabel('Models', fontsize=20)\n",
    "plt.ylabel('Scores', fontsize=20)\n",
    "plt.ylim(92,100.2)\n",
    "plt.title('Scores by model', fontsize=20)\n",
    "plt.xticks(index + bar_width, (scores_df.index), fontsize=15);\n",
    "\n"
   ]
  },
  {
   "cell_type": "markdown",
   "metadata": {},
   "source": [
    "As we could see, we have not gotten any improvement on our training and testing accuracy scores in comparison with our Bagging classifier."
   ]
  },
  {
   "cell_type": "markdown",
   "metadata": {},
   "source": [
    "## 4. Conclusions ##\n",
    "---"
   ]
  },
  {
   "cell_type": "markdown",
   "metadata": {},
   "source": [
    "Taking into account the abundance of information available nowadays, it is of a paramount importance to be able to distinguish information that can be potentially useful. That can not be overestimated especially in connection with emergency mitigation tactics. Specifically, identifying currently closed/blocked streets when planning routes in an emergency situation needs to be done with the highest precision possible, hence we need to filter 'ham-spam' our input information from various sources.\n",
    "Modeling of 'ham-spam' identification of Twitter posts as containing raw information for streets closures attempted above has brought us the following results:\n",
    "\n",
    "**We could identify a Twitter post with accuracy of 0.9955 or 99,55% of correctly classified posts by means of using a Bagging Classifier with 11 estimators and other default parameters using CountVectorizer with max_features=5000, ngram_range=(1,2) and English stopwords**\n",
    "\n"
   ]
  },
  {
   "cell_type": "code",
   "execution_count": 44,
   "metadata": {},
   "outputs": [],
   "source": [
    "#Saving our best model for future use\n",
    "best_model = results_bag.best_estimator_"
   ]
  },
  {
   "cell_type": "markdown",
   "metadata": {},
   "source": [
    "## 5. Test Run ##\n",
    "---"
   ]
  },
  {
   "cell_type": "markdown",
   "metadata": {},
   "source": [
    "Now it's time to use our best model for sorting tweets scrapped for our project illustration. These are tweets scrapped from the same channels within the last two weeks and stored in the file [new_data.csv](http://localhost:8888/edit/PROJECTS/project_5/project_5/datasets/new_data.csv)."
   ]
  },
  {
   "cell_type": "code",
   "execution_count": 46,
   "metadata": {},
   "outputs": [
    {
     "data": {
      "text/html": [
       "<div>\n",
       "<style scoped>\n",
       "    .dataframe tbody tr th:only-of-type {\n",
       "        vertical-align: middle;\n",
       "    }\n",
       "\n",
       "    .dataframe tbody tr th {\n",
       "        vertical-align: top;\n",
       "    }\n",
       "\n",
       "    .dataframe thead th {\n",
       "        text-align: right;\n",
       "    }\n",
       "</style>\n",
       "<table border=\"1\" class=\"dataframe\">\n",
       "  <thead>\n",
       "    <tr style=\"text-align: right;\">\n",
       "      <th></th>\n",
       "      <th>Unnamed: 0</th>\n",
       "      <th>username</th>\n",
       "      <th>tweet</th>\n",
       "      <th>date_posted</th>\n",
       "    </tr>\n",
       "  </thead>\n",
       "  <tbody>\n",
       "    <tr>\n",
       "      <td>0</td>\n",
       "      <td>0</td>\n",
       "      <td>511njbt</td>\n",
       "      <td>Delays on George Washington Bridge westbound f...</td>\n",
       "      <td>2019-11-06 23:59:56+00:00</td>\n",
       "    </tr>\n",
       "    <tr>\n",
       "      <td>1</td>\n",
       "      <td>1</td>\n",
       "      <td>511njbt</td>\n",
       "      <td>Delays on George Washington Bridge westbound f...</td>\n",
       "      <td>2019-11-06 23:58:57+00:00</td>\n",
       "    </tr>\n",
       "    <tr>\n",
       "      <td>2</td>\n",
       "      <td>2</td>\n",
       "      <td>511njtpk</td>\n",
       "      <td>Crash on New Jersey Turnpike - Eastern Spur so...</td>\n",
       "      <td>2019-11-06 23:58:56+00:00</td>\n",
       "    </tr>\n",
       "    <tr>\n",
       "      <td>3</td>\n",
       "      <td>3</td>\n",
       "      <td>511nji295</td>\n",
       "      <td>Crash on I-295 southbound South of Exit 29 - U...</td>\n",
       "      <td>2019-11-06 23:56:56+00:00</td>\n",
       "    </tr>\n",
       "    <tr>\n",
       "      <td>4</td>\n",
       "      <td>4</td>\n",
       "      <td>511njace</td>\n",
       "      <td>Construction, bridge painting on Atlantic City...</td>\n",
       "      <td>2019-11-06 23:52:57+00:00</td>\n",
       "    </tr>\n",
       "  </tbody>\n",
       "</table>\n",
       "</div>"
      ],
      "text/plain": [
       "   Unnamed: 0   username                                              tweet  \\\n",
       "0           0    511njbt  Delays on George Washington Bridge westbound f...   \n",
       "1           1    511njbt  Delays on George Washington Bridge westbound f...   \n",
       "2           2   511njtpk  Crash on New Jersey Turnpike - Eastern Spur so...   \n",
       "3           3  511nji295  Crash on I-295 southbound South of Exit 29 - U...   \n",
       "4           4   511njace  Construction, bridge painting on Atlantic City...   \n",
       "\n",
       "                 date_posted  \n",
       "0  2019-11-06 23:59:56+00:00  \n",
       "1  2019-11-06 23:58:57+00:00  \n",
       "2  2019-11-06 23:58:56+00:00  \n",
       "3  2019-11-06 23:56:56+00:00  \n",
       "4  2019-11-06 23:52:57+00:00  "
      ]
     },
     "execution_count": 46,
     "metadata": {},
     "output_type": "execute_result"
    }
   ],
   "source": [
    "#Loading our new tweets into DataFrame\n",
    "new_df = pd.read_csv('../datasets/new_data.csv')\n",
    "new_df.head()"
   ]
  },
  {
   "cell_type": "code",
   "execution_count": 47,
   "metadata": {},
   "outputs": [],
   "source": [
    "#Creatng our feature matrix\n",
    "X_new= new_df['tweet']"
   ]
  },
  {
   "cell_type": "code",
   "execution_count": 48,
   "metadata": {},
   "outputs": [
    {
     "data": {
      "text/plain": [
       "0"
      ]
     },
     "execution_count": 48,
     "metadata": {},
     "output_type": "execute_result"
    }
   ],
   "source": [
    "#Missing values check\n",
    "X_new.isna().sum()"
   ]
  },
  {
   "cell_type": "code",
   "execution_count": 49,
   "metadata": {},
   "outputs": [
    {
     "data": {
      "text/plain": [
       "1    6360\n",
       "0    1655\n",
       "Name: mark, dtype: int64"
      ]
     },
     "execution_count": 49,
     "metadata": {},
     "output_type": "execute_result"
    }
   ],
   "source": [
    "#Running our model on new data, getting predictions and storing them in a new column\n",
    "new_df['mark'] = best_model.predict(X_new)\n",
    "\n",
    "#Initial predictions check\n",
    "new_df['mark'].value_counts()"
   ]
  },
  {
   "cell_type": "code",
   "execution_count": 50,
   "metadata": {},
   "outputs": [],
   "source": [
    "#Preparing new DataFrame for future processing\n",
    "\n",
    "future_processing = new_df[new_df['mark'] == 0]"
   ]
  },
  {
   "cell_type": "code",
   "execution_count": 51,
   "metadata": {},
   "outputs": [
    {
     "data": {
      "text/html": [
       "<div>\n",
       "<style scoped>\n",
       "    .dataframe tbody tr th:only-of-type {\n",
       "        vertical-align: middle;\n",
       "    }\n",
       "\n",
       "    .dataframe tbody tr th {\n",
       "        vertical-align: top;\n",
       "    }\n",
       "\n",
       "    .dataframe thead th {\n",
       "        text-align: right;\n",
       "    }\n",
       "</style>\n",
       "<table border=\"1\" class=\"dataframe\">\n",
       "  <thead>\n",
       "    <tr style=\"text-align: right;\">\n",
       "      <th></th>\n",
       "      <th>Unnamed: 0</th>\n",
       "      <th>username</th>\n",
       "      <th>tweet</th>\n",
       "      <th>date_posted</th>\n",
       "      <th>mark</th>\n",
       "    </tr>\n",
       "  </thead>\n",
       "  <tbody>\n",
       "    <tr>\n",
       "      <td>3</td>\n",
       "      <td>3</td>\n",
       "      <td>511nji295</td>\n",
       "      <td>Crash on I-295 southbound South of Exit 29 - U...</td>\n",
       "      <td>2019-11-06 23:56:56+00:00</td>\n",
       "      <td>0</td>\n",
       "    </tr>\n",
       "    <tr>\n",
       "      <td>4</td>\n",
       "      <td>4</td>\n",
       "      <td>511njace</td>\n",
       "      <td>Construction, bridge painting on Atlantic City...</td>\n",
       "      <td>2019-11-06 23:52:57+00:00</td>\n",
       "      <td>0</td>\n",
       "    </tr>\n",
       "    <tr>\n",
       "      <td>8</td>\n",
       "      <td>8</td>\n",
       "      <td>511njtpk</td>\n",
       "      <td>Roadwork on New Jersey Turnpike inner roadway ...</td>\n",
       "      <td>2019-11-06 23:41:56+00:00</td>\n",
       "      <td>0</td>\n",
       "    </tr>\n",
       "    <tr>\n",
       "      <td>9</td>\n",
       "      <td>9</td>\n",
       "      <td>511nji76</td>\n",
       "      <td>Crash on I-76 eastbound at Exit 2 - I-676 (Cam...</td>\n",
       "      <td>2019-11-06 23:41:56+00:00</td>\n",
       "      <td>0</td>\n",
       "    </tr>\n",
       "    <tr>\n",
       "      <td>19</td>\n",
       "      <td>19</td>\n",
       "      <td>511njtpk</td>\n",
       "      <td>Roadwork on New Jersey Turnpike inner roadway ...</td>\n",
       "      <td>2019-11-06 23:27:56+00:00</td>\n",
       "      <td>0</td>\n",
       "    </tr>\n",
       "  </tbody>\n",
       "</table>\n",
       "</div>"
      ],
      "text/plain": [
       "    Unnamed: 0   username                                              tweet  \\\n",
       "3            3  511nji295  Crash on I-295 southbound South of Exit 29 - U...   \n",
       "4            4   511njace  Construction, bridge painting on Atlantic City...   \n",
       "8            8   511njtpk  Roadwork on New Jersey Turnpike inner roadway ...   \n",
       "9            9   511nji76  Crash on I-76 eastbound at Exit 2 - I-676 (Cam...   \n",
       "19          19   511njtpk  Roadwork on New Jersey Turnpike inner roadway ...   \n",
       "\n",
       "                  date_posted  mark  \n",
       "3   2019-11-06 23:56:56+00:00     0  \n",
       "4   2019-11-06 23:52:57+00:00     0  \n",
       "8   2019-11-06 23:41:56+00:00     0  \n",
       "9   2019-11-06 23:41:56+00:00     0  \n",
       "19  2019-11-06 23:27:56+00:00     0  "
      ]
     },
     "execution_count": 51,
     "metadata": {},
     "output_type": "execute_result"
    }
   ],
   "source": [
    "#Consistency check\n",
    "future_processing.head()"
   ]
  },
  {
   "cell_type": "code",
   "execution_count": 52,
   "metadata": {},
   "outputs": [
    {
     "name": "stderr",
     "output_type": "stream",
     "text": [
      "C:\\Users\\Fausto\\Anaconda3\\lib\\site-packages\\pandas\\core\\frame.py:4102: SettingWithCopyWarning: \n",
      "A value is trying to be set on a copy of a slice from a DataFrame\n",
      "\n",
      "See the caveats in the documentation: http://pandas.pydata.org/pandas-docs/stable/user_guide/indexing.html#returning-a-view-versus-a-copy\n",
      "  errors=errors,\n"
     ]
    }
   ],
   "source": [
    "#Dropping technical column\n",
    "future_processing.drop(columns='Unnamed: 0', inplace = True)"
   ]
  },
  {
   "cell_type": "code",
   "execution_count": 53,
   "metadata": {},
   "outputs": [],
   "source": [
    "#resetting index\n",
    "future_processing.reset_index(drop = True, inplace = True)"
   ]
  },
  {
   "cell_type": "code",
   "execution_count": 54,
   "metadata": {},
   "outputs": [
    {
     "data": {
      "text/html": [
       "<div>\n",
       "<style scoped>\n",
       "    .dataframe tbody tr th:only-of-type {\n",
       "        vertical-align: middle;\n",
       "    }\n",
       "\n",
       "    .dataframe tbody tr th {\n",
       "        vertical-align: top;\n",
       "    }\n",
       "\n",
       "    .dataframe thead th {\n",
       "        text-align: right;\n",
       "    }\n",
       "</style>\n",
       "<table border=\"1\" class=\"dataframe\">\n",
       "  <thead>\n",
       "    <tr style=\"text-align: right;\">\n",
       "      <th></th>\n",
       "      <th>username</th>\n",
       "      <th>tweet</th>\n",
       "      <th>date_posted</th>\n",
       "      <th>mark</th>\n",
       "    </tr>\n",
       "  </thead>\n",
       "  <tbody>\n",
       "    <tr>\n",
       "      <td>0</td>\n",
       "      <td>511nji295</td>\n",
       "      <td>Crash on I-295 southbound South of Exit 29 - U...</td>\n",
       "      <td>2019-11-06 23:56:56+00:00</td>\n",
       "      <td>0</td>\n",
       "    </tr>\n",
       "    <tr>\n",
       "      <td>1</td>\n",
       "      <td>511njace</td>\n",
       "      <td>Construction, bridge painting on Atlantic City...</td>\n",
       "      <td>2019-11-06 23:52:57+00:00</td>\n",
       "      <td>0</td>\n",
       "    </tr>\n",
       "    <tr>\n",
       "      <td>2</td>\n",
       "      <td>511njtpk</td>\n",
       "      <td>Roadwork on New Jersey Turnpike inner roadway ...</td>\n",
       "      <td>2019-11-06 23:41:56+00:00</td>\n",
       "      <td>0</td>\n",
       "    </tr>\n",
       "    <tr>\n",
       "      <td>3</td>\n",
       "      <td>511nji76</td>\n",
       "      <td>Crash on I-76 eastbound at Exit 2 - I-676 (Cam...</td>\n",
       "      <td>2019-11-06 23:41:56+00:00</td>\n",
       "      <td>0</td>\n",
       "    </tr>\n",
       "    <tr>\n",
       "      <td>4</td>\n",
       "      <td>511njtpk</td>\n",
       "      <td>Roadwork on New Jersey Turnpike inner roadway ...</td>\n",
       "      <td>2019-11-06 23:27:56+00:00</td>\n",
       "      <td>0</td>\n",
       "    </tr>\n",
       "    <tr>\n",
       "      <td>...</td>\n",
       "      <td>...</td>\n",
       "      <td>...</td>\n",
       "      <td>...</td>\n",
       "      <td>...</td>\n",
       "    </tr>\n",
       "    <tr>\n",
       "      <td>1650</td>\n",
       "      <td>NJTRANSIT_SBUS</td>\n",
       "      <td>Bus Route No. 413 to Camden will operate via H...</td>\n",
       "      <td>2019-10-24 11:54:40+00:00</td>\n",
       "      <td>0</td>\n",
       "    </tr>\n",
       "    <tr>\n",
       "      <td>1651</td>\n",
       "      <td>NJDOT_info</td>\n",
       "      <td>UPDATE: Rt 38 EASTBOUND LANES REOPENED, WESTBO...</td>\n",
       "      <td>2019-10-24 11:31:46+00:00</td>\n",
       "      <td>0</td>\n",
       "    </tr>\n",
       "    <tr>\n",
       "      <td>1652</td>\n",
       "      <td>NJDOT_info</td>\n",
       "      <td>Rt 38 all lanes are closed and detoured in bot...</td>\n",
       "      <td>2019-10-24 11:05:43+00:00</td>\n",
       "      <td>0</td>\n",
       "    </tr>\n",
       "    <tr>\n",
       "      <td>1653</td>\n",
       "      <td>NJTRANSIT_SBUS</td>\n",
       "      <td>Bus Route Nos. 313/317/551 will operate on a d...</td>\n",
       "      <td>2019-10-24 00:34:20+00:00</td>\n",
       "      <td>0</td>\n",
       "    </tr>\n",
       "    <tr>\n",
       "      <td>1654</td>\n",
       "      <td>NJTRANSIT_NBUS</td>\n",
       "      <td>Bus Route Nos. 39/94 has resumed normal operat...</td>\n",
       "      <td>2019-10-24 00:21:30+00:00</td>\n",
       "      <td>0</td>\n",
       "    </tr>\n",
       "  </tbody>\n",
       "</table>\n",
       "<p>1655 rows × 4 columns</p>\n",
       "</div>"
      ],
      "text/plain": [
       "            username                                              tweet  \\\n",
       "0          511nji295  Crash on I-295 southbound South of Exit 29 - U...   \n",
       "1           511njace  Construction, bridge painting on Atlantic City...   \n",
       "2           511njtpk  Roadwork on New Jersey Turnpike inner roadway ...   \n",
       "3           511nji76  Crash on I-76 eastbound at Exit 2 - I-676 (Cam...   \n",
       "4           511njtpk  Roadwork on New Jersey Turnpike inner roadway ...   \n",
       "...              ...                                                ...   \n",
       "1650  NJTRANSIT_SBUS  Bus Route No. 413 to Camden will operate via H...   \n",
       "1651      NJDOT_info  UPDATE: Rt 38 EASTBOUND LANES REOPENED, WESTBO...   \n",
       "1652      NJDOT_info  Rt 38 all lanes are closed and detoured in bot...   \n",
       "1653  NJTRANSIT_SBUS  Bus Route Nos. 313/317/551 will operate on a d...   \n",
       "1654  NJTRANSIT_NBUS  Bus Route Nos. 39/94 has resumed normal operat...   \n",
       "\n",
       "                    date_posted  mark  \n",
       "0     2019-11-06 23:56:56+00:00     0  \n",
       "1     2019-11-06 23:52:57+00:00     0  \n",
       "2     2019-11-06 23:41:56+00:00     0  \n",
       "3     2019-11-06 23:41:56+00:00     0  \n",
       "4     2019-11-06 23:27:56+00:00     0  \n",
       "...                         ...   ...  \n",
       "1650  2019-10-24 11:54:40+00:00     0  \n",
       "1651  2019-10-24 11:31:46+00:00     0  \n",
       "1652  2019-10-24 11:05:43+00:00     0  \n",
       "1653  2019-10-24 00:34:20+00:00     0  \n",
       "1654  2019-10-24 00:21:30+00:00     0  \n",
       "\n",
       "[1655 rows x 4 columns]"
      ]
     },
     "execution_count": 54,
     "metadata": {},
     "output_type": "execute_result"
    }
   ],
   "source": [
    "#Final check\n",
    "future_processing"
   ]
  },
  {
   "cell_type": "code",
   "execution_count": 55,
   "metadata": {},
   "outputs": [],
   "source": [
    "#Saving into a csv file\n",
    "future_processing.to_csv('../datasets/future_processing.csv')"
   ]
  },
  {
   "cell_type": "markdown",
   "metadata": {},
   "source": [
    "---"
   ]
  }
 ],
 "metadata": {
  "kernelspec": {
   "display_name": "Python 3",
   "language": "python",
   "name": "python3"
  },
  "language_info": {
   "codemirror_mode": {
    "name": "ipython",
    "version": 3
   },
   "file_extension": ".py",
   "mimetype": "text/x-python",
   "name": "python",
   "nbconvert_exporter": "python",
   "pygments_lexer": "ipython3",
   "version": "3.7.3"
  },
  "nteract": {
   "version": "0.15.0"
  }
 },
 "nbformat": 4,
 "nbformat_minor": 4
}
